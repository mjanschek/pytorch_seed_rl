{
 "cells": [
  {
   "source": [
    "# Launching an experiment"
   ],
   "cell_type": "markdown",
   "metadata": {}
  },
  {
   "source": [
    "## First choose some parameters"
   ],
   "cell_type": "markdown",
   "metadata": {}
  },
  {
   "cell_type": "code",
   "execution_count": null,
   "metadata": {},
   "outputs": [],
   "source": [
    "exp_name = 'learning_pong'\n",
    "GPU = '0'\n",
    "env = 'PongNoFrameskip-v4'"
   ]
  },
  {
   "cell_type": "code",
   "execution_count": null,
   "metadata": {},
   "outputs": [],
   "source": [
    "# use IMPALA settings\n",
    "setup = {\n",
    "    '--total_steps': 50000000,\n",
    "    '--num_actors': 4,\n",
    "    '--num_envs': 64,\n",
    "    '--threads_store': 2,\n",
    "    '--batchsize_training': 32,\n",
    "    '--rollout': 20,\n",
    "    '--entropy_cost': 0.01,\n",
    "    '--epsilon': 0.01,\n",
    "    '--learning_rate': 0.0006,\n",
    "}"
   ]
  },
  {
   "cell_type": "code",
   "execution_count": null,
   "metadata": {},
   "outputs": [],
   "source": [
    "exp_input = ' '.join([str(k + ' ' + str(v)) for k,v in setup.items()])"
   ]
  },
  {
   "source": [
    "## Then, launch the experiment with a CLI command"
   ],
   "cell_type": "markdown",
   "metadata": {}
  },
  {
   "cell_type": "code",
   "execution_count": null,
   "metadata": {},
   "outputs": [],
   "source": [
    "!python3 -m pytorch_seed_rl.run $exp_name --gpu_ids $GPU $exp_input --env $env"
   ]
  }
 ],
 "metadata": {
  "kernelspec": {
   "display_name": "pytorch",
   "language": "python",
   "name": "pytorch"
  },
  "language_info": {
   "codemirror_mode": {
    "name": "ipython",
    "version": 3
   },
   "file_extension": ".py",
   "mimetype": "text/x-python",
   "name": "python",
   "nbconvert_exporter": "python",
   "pygments_lexer": "ipython3",
   "version": "3.8.3-final"
  }
 },
 "nbformat": 4,
 "nbformat_minor": 4
}