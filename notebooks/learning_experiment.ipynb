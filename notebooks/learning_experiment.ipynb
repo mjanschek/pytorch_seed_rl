{
 "cells": [
  {
   "cell_type": "code",
   "execution_count": 1,
   "metadata": {},
   "outputs": [],
   "source": [
    "# use IMPALA settings"
   ]
  },
  {
   "cell_type": "code",
   "execution_count": 2,
   "metadata": {},
   "outputs": [],
   "source": [
    "exp_name = 'learning_experiment_pong'\n",
    "GPU = '0'\n",
    "env = 'PongNoFrameskip-v4'"
   ]
  },
  {
   "cell_type": "code",
   "execution_count": 3,
   "metadata": {},
   "outputs": [],
   "source": [
    "setup = {\n",
    "    '--total_steps': 50000000,\n",
    "    '--num_actors': 4,\n",
    "    '--num_envs': 64,\n",
    "    '--threads_store': 2,\n",
    "    '--batchsize_training': 32,\n",
    "    '--rollout': 20,\n",
    "    '--entropy_cost': 0.01,\n",
    "    '--epsilon': 0.01,\n",
    "    '--learning_rate': 0.0006,\n",
    "}"
   ]
  },
  {
   "cell_type": "code",
   "execution_count": 4,
   "metadata": {},
   "outputs": [],
   "source": [
    "exp_input = ' '.join([str(k + ' ' + str(v)) for k,v in setup.items()])"
   ]
  },
  {
   "cell_type": "code",
   "execution_count": 5,
   "metadata": {},
   "outputs": [
    {
     "data": {
      "text/plain": [
       "'--total_steps 50000000 --num_actors 4 --num_envs 64 --threads_store 2 --batchsize_training 32 --rollout 20 --entropy_cost 0.01 --epsilon 0.01 --learning_rate 0.0006'"
      ]
     },
     "execution_count": 5,
     "metadata": {},
     "output_type": "execute_result"
    }
   ],
   "source": [
    "exp_input"
   ]
  },
  {
   "cell_type": "code",
   "execution_count": null,
   "metadata": {},
   "outputs": [
    {
     "name": "stdout",
     "output_type": "stream",
     "text": [
      "RPC was initialized with the PROCESS_GROUP backend which is deprecated and slated to be removed and superseded by the TENSORPIPE backend. It is recommended to migrate to the TENSORPIPE backend.\n",
      "RPC was initialized with the PROCESS_GROUP backend which is deprecated and slated to be removed and superseded by the TENSORPIPE backend. It is recommended to migrate to the TENSORPIPE backend.\n",
      "RPC was initialized with the PROCESS_GROUP backend which is deprecated and slated to be removed and superseded by the TENSORPIPE backend. It is recommended to migrate to the TENSORPIPE backend.\n",
      "RPC was initialized with the PROCESS_GROUP backend which is deprecated and slated to be removed and superseded by the TENSORPIPE backend. It is recommended to migrate to the TENSORPIPE backend.\n",
      "RPC was initialized with the PROCESS_GROUP backend which is deprecated and slated to be removed and superseded by the TENSORPIPE backend. It is recommended to migrate to the TENSORPIPE backend.\n",
      "4 callers spawned, awaiting start.\n",
      "csv logs will be saved at /home/garg1/logs/pytorch_seed_rl/learning_experiment_final/csv\n",
      "Caller loops started.\n",
      "Loop started. You can interupt using strg+c.\n"
     ]
    }
   ],
   "source": [
    "!python3 -m pytorch_seed_rl.run $exp_name --gpu_ids $GPU $exp_input --env $env"
   ]
  },
  {
   "cell_type": "code",
   "execution_count": null,
   "metadata": {},
   "outputs": [],
   "source": []
  }
 ],
 "metadata": {
  "kernelspec": {
   "display_name": "pytorch",
   "language": "python",
   "name": "pytorch"
  },
  "language_info": {
   "codemirror_mode": {
    "name": "ipython",
    "version": 3
   },
   "file_extension": ".py",
   "mimetype": "text/x-python",
   "name": "python",
   "nbconvert_exporter": "python",
   "pygments_lexer": "ipython3",
   "version": "3.8.3"
  }
 },
 "nbformat": 4,
 "nbformat_minor": 4
}
