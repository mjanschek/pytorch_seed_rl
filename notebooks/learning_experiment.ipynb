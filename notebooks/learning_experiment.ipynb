{
 "cells": [
  {
   "cell_type": "code",
   "execution_count": 1,
   "metadata": {},
   "outputs": [],
   "source": [
    "# use IMPALA settings"
   ]
  },
  {
   "cell_type": "code",
   "execution_count": 2,
   "metadata": {},
   "outputs": [],
   "source": [
    "exp_name = 'learning_experiment_final'\n",
    "GPU = '0'"
   ]
  },
  {
   "cell_type": "code",
   "execution_count": 3,
   "metadata": {},
   "outputs": [],
   "source": [
    "setup = {\n",
    "    '--total_steps': 50000000,\n",
    "    '--num_actors': 4,\n",
    "    '--num_envs': 64,\n",
    "    '--threads_store': 2,\n",
    "    '--batchsize_training': 32,\n",
    "    '--rollout': 20,\n",
    "    '--entropy_cost': 0.01,\n",
    "    '--epsilon': 0.01,\n",
    "    '--learning_rate': 0.0006,\n",
    "}"
   ]
  },
  {
   "cell_type": "code",
   "execution_count": 4,
   "metadata": {},
   "outputs": [],
   "source": [
    "exp_input = ' '.join([str(k + ' ' + str(v)) for k,v in setup.items()])"
   ]
  },
  {
   "cell_type": "code",
   "execution_count": 5,
   "metadata": {},
   "outputs": [
    {
     "data": {
      "text/plain": [
       "'--total_steps 50000000 --num_actors 4 --num_envs 64 --threads_store 2 --batchsize_training 32 --rollout 20 --entropy_cost 0.01 --epsilon 0.01 --learning_rate 0.0006'"
      ]
     },
     "execution_count": 5,
     "metadata": {},
     "output_type": "execute_result"
    }
   ],
   "source": [
    "exp_input"
   ]
  },
  {
   "cell_type": "code",
   "execution_count": 9,
   "metadata": {},
   "outputs": [
    {
     "name": "stdout",
     "output_type": "stream",
     "text": [
      "Processing /home/garg1/workspace/python/pytorch_seed_rl\n",
      "Requirement already satisfied: torch>=1.7 in /home/garg1/anaconda3/lib/python3.7/site-packages (from pytorch-seed-rl==0.0.1) (1.7.0)\n",
      "Requirement already satisfied: gym[atari]>=0.17.2 in /home/garg1/anaconda3/lib/python3.7/site-packages (from pytorch-seed-rl==0.0.1) (0.17.3)\n",
      "Requirement already satisfied: torchsummary>=1.5.1 in /home/garg1/anaconda3/lib/python3.7/site-packages (from pytorch-seed-rl==0.0.1) (1.5.1)\n",
      "Requirement already satisfied: future in /home/garg1/anaconda3/lib/python3.7/site-packages (from torch>=1.7->pytorch-seed-rl==0.0.1) (0.18.2)\n",
      "Requirement already satisfied: typing-extensions in /home/garg1/anaconda3/lib/python3.7/site-packages (from torch>=1.7->pytorch-seed-rl==0.0.1) (3.7.4.3)\n",
      "Requirement already satisfied: dataclasses in /home/garg1/anaconda3/lib/python3.7/site-packages (from torch>=1.7->pytorch-seed-rl==0.0.1) (0.6)\n",
      "Requirement already satisfied: numpy in /home/garg1/anaconda3/lib/python3.7/site-packages (from torch>=1.7->pytorch-seed-rl==0.0.1) (1.18.1)\n",
      "Requirement already satisfied: pyglet<=1.5.0,>=1.4.0 in /home/garg1/anaconda3/lib/python3.7/site-packages (from gym[atari]>=0.17.2->pytorch-seed-rl==0.0.1) (1.5.0)\n",
      "Requirement already satisfied: cloudpickle<1.7.0,>=1.2.0 in /home/garg1/anaconda3/lib/python3.7/site-packages (from gym[atari]>=0.17.2->pytorch-seed-rl==0.0.1) (1.3.0)\n",
      "Requirement already satisfied: scipy in /home/garg1/anaconda3/lib/python3.7/site-packages (from gym[atari]>=0.17.2->pytorch-seed-rl==0.0.1) (1.4.1)\n",
      "Requirement already satisfied: Pillow; extra == \"atari\" in /home/garg1/anaconda3/lib/python3.7/site-packages (from gym[atari]>=0.17.2->pytorch-seed-rl==0.0.1) (7.0.0)\n",
      "Requirement already satisfied: opencv-python; extra == \"atari\" in /home/garg1/anaconda3/lib/python3.7/site-packages (from gym[atari]>=0.17.2->pytorch-seed-rl==0.0.1) (4.4.0.46)\n",
      "Requirement already satisfied: atari-py~=0.2.0; extra == \"atari\" in /home/garg1/anaconda3/lib/python3.7/site-packages (from gym[atari]>=0.17.2->pytorch-seed-rl==0.0.1) (0.2.6)\n",
      "Requirement already satisfied: six in /home/garg1/anaconda3/lib/python3.7/site-packages (from atari-py~=0.2.0; extra == \"atari\"->gym[atari]>=0.17.2->pytorch-seed-rl==0.0.1) (1.14.0)\n",
      "Building wheels for collected packages: pytorch-seed-rl\n",
      "  Building wheel for pytorch-seed-rl (setup.py) ... \u001b[?25ldone\n",
      "\u001b[?25h  Created wheel for pytorch-seed-rl: filename=pytorch_seed_rl-0.0.1-py3-none-any.whl size=53092 sha256=ceaff6faf79b40306ccbb1ea406ae95f637d0b763b05461c6666635059e89aea\n",
      "  Stored in directory: /tmp/pip-ephem-wheel-cache-73bp2spo/wheels/fa/88/af/4d0a3869cbe103b029184ab12049937927c5b608619099828f\n",
      "Successfully built pytorch-seed-rl\n",
      "Installing collected packages: pytorch-seed-rl\n",
      "  Attempting uninstall: pytorch-seed-rl\n",
      "    Found existing installation: pytorch-seed-rl 0.0.1\n",
      "    Uninstalling pytorch-seed-rl-0.0.1:\n",
      "      Successfully uninstalled pytorch-seed-rl-0.0.1\n",
      "Successfully installed pytorch-seed-rl-0.0.1\n",
      "\u001b[33mWARNING: You are using pip version 20.2.4; however, version 20.3.1 is available.\n",
      "You should consider upgrading via the '/home/garg1/anaconda3/bin/python -m pip install --upgrade pip' command.\u001b[0m\n"
     ]
    }
   ],
   "source": [
    "!pip3 install ../."
   ]
  },
  {
   "cell_type": "code",
   "execution_count": null,
   "metadata": {},
   "outputs": [
    {
     "name": "stdout",
     "output_type": "stream",
     "text": [
      "RPC was initialized with the PROCESS_GROUP backend which is deprecated and slated to be removed and superseded by the TENSORPIPE backend. It is recommended to migrate to the TENSORPIPE backend.\n",
      "RPC was initialized with the PROCESS_GROUP backend which is deprecated and slated to be removed and superseded by the TENSORPIPE backend. It is recommended to migrate to the TENSORPIPE backend.\n",
      "RPC was initialized with the PROCESS_GROUP backend which is deprecated and slated to be removed and superseded by the TENSORPIPE backend. It is recommended to migrate to the TENSORPIPE backend.\n",
      "RPC was initialized with the PROCESS_GROUP backend which is deprecated and slated to be removed and superseded by the TENSORPIPE backend. It is recommended to migrate to the TENSORPIPE backend.\n",
      "RPC was initialized with the PROCESS_GROUP backend which is deprecated and slated to be removed and superseded by the TENSORPIPE backend. It is recommended to migrate to the TENSORPIPE backend.\n",
      "4 callers spawned, awaiting start.\n",
      "csv logs will be saved at /home/garg1/logs/pytorch_seed_rl/learning_experiment_final/csv\n",
      "Caller loops started.\n",
      "Loop started. You can interupt using strg+c.\n"
     ]
    }
   ],
   "source": [
    "!python3 -m pytorch_seed_rl.run $exp_name --gpu_ids $GPU $exp_input"
   ]
  },
  {
   "cell_type": "code",
   "execution_count": null,
   "metadata": {},
   "outputs": [],
   "source": []
  }
 ],
 "metadata": {
  "kernelspec": {
   "display_name": "pytorch",
   "language": "python",
   "name": "pytorch"
  },
  "language_info": {
   "codemirror_mode": {
    "name": "ipython",
    "version": 3
   },
   "file_extension": ".py",
   "mimetype": "text/x-python",
   "name": "python",
   "nbconvert_exporter": "python",
   "pygments_lexer": "ipython3",
   "version": "3.8.3"
  }
 },
 "nbformat": 4,
 "nbformat_minor": 4
}
