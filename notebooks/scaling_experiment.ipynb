{
 "cells": [
  {
   "cell_type": "code",
   "execution_count": 1,
   "metadata": {},
   "outputs": [
    {
     "data": {
      "text/plain": [
       "'/home/mijan103/workspace/pytorch_seed_rl'"
      ]
     },
     "execution_count": 1,
     "metadata": {},
     "output_type": "execute_result"
    }
   ],
   "source": [
    "import os\n",
    "\n",
    "# Change the Current working Directory\n",
    "os.chdir('..')\n",
    "os.getcwd()"
   ]
  },
  {
   "cell_type": "code",
   "execution_count": 2,
   "metadata": {},
   "outputs": [],
   "source": [
    "GPU = '1'"
   ]
  },
  {
   "cell_type": "code",
   "execution_count": 3,
   "metadata": {},
   "outputs": [],
   "source": [
    "experiment_dir = \"scaling_experiment\""
   ]
  },
  {
   "cell_type": "code",
   "execution_count": 4,
   "metadata": {},
   "outputs": [],
   "source": [
    "all_args = {\n",
    "    '--num_actors': [1,2,4,8,16],\n",
    "    '--num_prefetchers': [1, 2, 4],\n",
    "    '--num_inference_threads': [1, 2, 4],\n",
    "    '--num_envs': [4,8,16,32,64]\n",
    "}"
   ]
  },
  {
   "cell_type": "code",
   "execution_count": 5,
   "metadata": {},
   "outputs": [
    {
     "data": {
      "text/plain": [
       "180"
      ]
     },
     "execution_count": 5,
     "metadata": {},
     "output_type": "execute_result"
    }
   ],
   "source": [
    "import itertools\n",
    "keys, values = zip(*all_args.items())\n",
    "experiments = [dict(zip(keys, v)) for v in itertools.product(*values)]\n",
    "\n",
    "cleaned_experiments=[]\n",
    "for e in experiments:\n",
    "    if e['--num_prefetchers'] <= e['--num_actors']:\n",
    "        cleaned_experiments.append(e)\n",
    "\n",
    "len(cleaned_experiments)"
   ]
  },
  {
   "cell_type": "code",
   "execution_count": 6,
   "metadata": {},
   "outputs": [],
   "source": [
    "experiment_strings = []\n",
    "for e in cleaned_experiments:\n",
    "    exp_input = ' '.join([str(k + ' ' + str(v)) for k,v in e.items()])\n",
    "    exp_name = \"_\".join(['a', str(e['--num_actors']).zfill(2),\n",
    "     'p', str(e['--num_prefetchers']).zfill(1),\n",
    "     'i', str(e['--num_inference_threads']).zfill(1),\n",
    "     'n', str(e['--num_envs']).zfill(2)])\n",
    "    \n",
    "    input_str = ' '.join([str(experiment_dir +'/' + exp_name)] + [str(k + ' ' + str(v)) for k,v in e.items()])\n",
    "    experiment_strings.append(input_str)"
   ]
  },
  {
   "cell_type": "code",
   "execution_count": null,
   "metadata": {},
   "outputs": [
    {
     "name": "stdout",
     "output_type": "stream",
     "text": [
      "EXPERIMENT DATA EXISTS. CHANGE --savedir OR RESTART WITH RESET FLAG (-R) TO OVERWRITE DATA!\n",
      "EXPERIMENT DATA EXISTS. CHANGE --savedir OR RESTART WITH RESET FLAG (-R) TO OVERWRITE DATA!\n",
      "EXPERIMENT DATA EXISTS. CHANGE --savedir OR RESTART WITH RESET FLAG (-R) TO OVERWRITE DATA!\n",
      "EXPERIMENT DATA EXISTS. CHANGE --savedir OR RESTART WITH RESET FLAG (-R) TO OVERWRITE DATA!\n",
      "EXPERIMENT DATA EXISTS. CHANGE --savedir OR RESTART WITH RESET FLAG (-R) TO OVERWRITE DATA!\n",
      "EXPERIMENT DATA EXISTS. CHANGE --savedir OR RESTART WITH RESET FLAG (-R) TO OVERWRITE DATA!\n",
      "EXPERIMENT DATA EXISTS. CHANGE --savedir OR RESTART WITH RESET FLAG (-R) TO OVERWRITE DATA!\n",
      "EXPERIMENT DATA EXISTS. CHANGE --savedir OR RESTART WITH RESET FLAG (-R) TO OVERWRITE DATA!\n",
      "EXPERIMENT DATA EXISTS. CHANGE --savedir OR RESTART WITH RESET FLAG (-R) TO OVERWRITE DATA!\n",
      "EXPERIMENT DATA EXISTS. CHANGE --savedir OR RESTART WITH RESET FLAG (-R) TO OVERWRITE DATA!\n",
      "EXPERIMENT DATA EXISTS. CHANGE --savedir OR RESTART WITH RESET FLAG (-R) TO OVERWRITE DATA!\n",
      "EXPERIMENT DATA EXISTS. CHANGE --savedir OR RESTART WITH RESET FLAG (-R) TO OVERWRITE DATA!\n",
      "EXPERIMENT DATA EXISTS. CHANGE --savedir OR RESTART WITH RESET FLAG (-R) TO OVERWRITE DATA!\n",
      "EXPERIMENT DATA EXISTS. CHANGE --savedir OR RESTART WITH RESET FLAG (-R) TO OVERWRITE DATA!\n",
      "EXPERIMENT DATA EXISTS. CHANGE --savedir OR RESTART WITH RESET FLAG (-R) TO OVERWRITE DATA!\n",
      "EXPERIMENT DATA EXISTS. CHANGE --savedir OR RESTART WITH RESET FLAG (-R) TO OVERWRITE DATA!\n",
      "EXPERIMENT DATA EXISTS. CHANGE --savedir OR RESTART WITH RESET FLAG (-R) TO OVERWRITE DATA!\n",
      "EXPERIMENT DATA EXISTS. CHANGE --savedir OR RESTART WITH RESET FLAG (-R) TO OVERWRITE DATA!\n",
      "EXPERIMENT DATA EXISTS. CHANGE --savedir OR RESTART WITH RESET FLAG (-R) TO OVERWRITE DATA!\n",
      "EXPERIMENT DATA EXISTS. CHANGE --savedir OR RESTART WITH RESET FLAG (-R) TO OVERWRITE DATA!\n",
      "EXPERIMENT DATA EXISTS. CHANGE --savedir OR RESTART WITH RESET FLAG (-R) TO OVERWRITE DATA!\n",
      "EXPERIMENT DATA EXISTS. CHANGE --savedir OR RESTART WITH RESET FLAG (-R) TO OVERWRITE DATA!\n",
      "EXPERIMENT DATA EXISTS. CHANGE --savedir OR RESTART WITH RESET FLAG (-R) TO OVERWRITE DATA!\n",
      "EXPERIMENT DATA EXISTS. CHANGE --savedir OR RESTART WITH RESET FLAG (-R) TO OVERWRITE DATA!\n",
      "EXPERIMENT DATA EXISTS. CHANGE --savedir OR RESTART WITH RESET FLAG (-R) TO OVERWRITE DATA!\n",
      "EXPERIMENT DATA EXISTS. CHANGE --savedir OR RESTART WITH RESET FLAG (-R) TO OVERWRITE DATA!\n",
      "EXPERIMENT DATA EXISTS. CHANGE --savedir OR RESTART WITH RESET FLAG (-R) TO OVERWRITE DATA!\n",
      "EXPERIMENT DATA EXISTS. CHANGE --savedir OR RESTART WITH RESET FLAG (-R) TO OVERWRITE DATA!\n",
      "EXPERIMENT DATA EXISTS. CHANGE --savedir OR RESTART WITH RESET FLAG (-R) TO OVERWRITE DATA!\n",
      "EXPERIMENT DATA EXISTS. CHANGE --savedir OR RESTART WITH RESET FLAG (-R) TO OVERWRITE DATA!\n",
      "EXPERIMENT DATA EXISTS. CHANGE --savedir OR RESTART WITH RESET FLAG (-R) TO OVERWRITE DATA!\n",
      "EXPERIMENT DATA EXISTS. CHANGE --savedir OR RESTART WITH RESET FLAG (-R) TO OVERWRITE DATA!\n",
      "EXPERIMENT DATA EXISTS. CHANGE --savedir OR RESTART WITH RESET FLAG (-R) TO OVERWRITE DATA!\n",
      "EXPERIMENT DATA EXISTS. CHANGE --savedir OR RESTART WITH RESET FLAG (-R) TO OVERWRITE DATA!\n",
      "EXPERIMENT DATA EXISTS. CHANGE --savedir OR RESTART WITH RESET FLAG (-R) TO OVERWRITE DATA!\n",
      "EXPERIMENT DATA EXISTS. CHANGE --savedir OR RESTART WITH RESET FLAG (-R) TO OVERWRITE DATA!\n",
      "EXPERIMENT DATA EXISTS. CHANGE --savedir OR RESTART WITH RESET FLAG (-R) TO OVERWRITE DATA!\n",
      "EXPERIMENT DATA EXISTS. CHANGE --savedir OR RESTART WITH RESET FLAG (-R) TO OVERWRITE DATA!\n",
      "EXPERIMENT DATA EXISTS. CHANGE --savedir OR RESTART WITH RESET FLAG (-R) TO OVERWRITE DATA!\n",
      "EXPERIMENT DATA EXISTS. CHANGE --savedir OR RESTART WITH RESET FLAG (-R) TO OVERWRITE DATA!\n",
      "EXPERIMENT DATA EXISTS. CHANGE --savedir OR RESTART WITH RESET FLAG (-R) TO OVERWRITE DATA!\n",
      "EXPERIMENT DATA EXISTS. CHANGE --savedir OR RESTART WITH RESET FLAG (-R) TO OVERWRITE DATA!\n",
      "EXPERIMENT DATA EXISTS. CHANGE --savedir OR RESTART WITH RESET FLAG (-R) TO OVERWRITE DATA!\n",
      "EXPERIMENT DATA EXISTS. CHANGE --savedir OR RESTART WITH RESET FLAG (-R) TO OVERWRITE DATA!\n",
      "EXPERIMENT DATA EXISTS. CHANGE --savedir OR RESTART WITH RESET FLAG (-R) TO OVERWRITE DATA!\n",
      "EXPERIMENT DATA EXISTS. CHANGE --savedir OR RESTART WITH RESET FLAG (-R) TO OVERWRITE DATA!\n",
      "EXPERIMENT DATA EXISTS. CHANGE --savedir OR RESTART WITH RESET FLAG (-R) TO OVERWRITE DATA!\n",
      "EXPERIMENT DATA EXISTS. CHANGE --savedir OR RESTART WITH RESET FLAG (-R) TO OVERWRITE DATA!\n",
      "EXPERIMENT DATA EXISTS. CHANGE --savedir OR RESTART WITH RESET FLAG (-R) TO OVERWRITE DATA!\n",
      "EXPERIMENT DATA EXISTS. CHANGE --savedir OR RESTART WITH RESET FLAG (-R) TO OVERWRITE DATA!\n",
      "EXPERIMENT DATA EXISTS. CHANGE --savedir OR RESTART WITH RESET FLAG (-R) TO OVERWRITE DATA!\n",
      "EXPERIMENT DATA EXISTS. CHANGE --savedir OR RESTART WITH RESET FLAG (-R) TO OVERWRITE DATA!\n",
      "EXPERIMENT DATA EXISTS. CHANGE --savedir OR RESTART WITH RESET FLAG (-R) TO OVERWRITE DATA!\n",
      "EXPERIMENT DATA EXISTS. CHANGE --savedir OR RESTART WITH RESET FLAG (-R) TO OVERWRITE DATA!\n",
      "EXPERIMENT DATA EXISTS. CHANGE --savedir OR RESTART WITH RESET FLAG (-R) TO OVERWRITE DATA!\n",
      "RPC was initialized with the PROCESS_GROUP backend which is deprecated and slated to be removed and superseded by the TENSORPIPE backend. It is recommended to migrate to the TENSORPIPE backend.\n",
      "RPC was initialized with the PROCESS_GROUP backend which is deprecated and slated to be removed and superseded by the TENSORPIPE backend. It is recommended to migrate to the TENSORPIPE backend.\n",
      "RPC was initialized with the PROCESS_GROUP backend which is deprecated and slated to be removed and superseded by the TENSORPIPE backend. It is recommended to migrate to the TENSORPIPE backend.\n",
      "RPC was initialized with the PROCESS_GROUP backend which is deprecated and slated to be removed and superseded by the TENSORPIPE backend. It is recommended to migrate to the TENSORPIPE backend.\n",
      "RPC was initialized with the PROCESS_GROUP backend which is deprecated and slated to be removed and superseded by the TENSORPIPE backend. It is recommended to migrate to the TENSORPIPE backend.\n",
      "4 callers spawned, awaiting start.\n",
      "csv logs will be saved at /home/mijan103/logs/pytorch_seed_rl/scaling_experiment/a_04_p_1_i_4_n_04/csv\n",
      "Caller loops started.\n",
      "Loop started. You can interupt using strg+c.\n",
      "Answering pending RPCs\n",
      "Write and empty log buffers.\n",
      "Join prefetch threads.\n",
      "Running garbage collection.\n",
      "\n",
      "============== REPORT ==============\n",
      "infered 100872 steps\n",
      "in 258.1560821533203 seconds\n",
      "==> 390.74035815314073 fps\n",
      "trained 100160 steps\n",
      "in 258.1560821533203 seconds\n",
      "==> 387.9823367497281 fps\n",
      "Total inference_time: 222.83344912528992 seconds\n",
      "Total training_time: 8.42534613609314 seconds\n",
      "Total fetching_time: 10.171567678451538 seconds\n",
      "Mean inference latency: 0.0331669870341359 seconds\n",
      "RPC was initialized with the PROCESS_GROUP backend which is deprecated and slated to be removed and superseded by the TENSORPIPE backend. It is recommended to migrate to the TENSORPIPE backend.\n",
      "RPC was initialized with the PROCESS_GROUP backend which is deprecated and slated to be removed and superseded by the TENSORPIPE backend. It is recommended to migrate to the TENSORPIPE backend.\n",
      "RPC was initialized with the PROCESS_GROUP backend which is deprecated and slated to be removed and superseded by the TENSORPIPE backend. It is recommended to migrate to the TENSORPIPE backend.\n",
      "RPC was initialized with the PROCESS_GROUP backend which is deprecated and slated to be removed and superseded by the TENSORPIPE backend. It is recommended to migrate to the TENSORPIPE backend.\n",
      "RPC was initialized with the PROCESS_GROUP backend which is deprecated and slated to be removed and superseded by the TENSORPIPE backend. It is recommended to migrate to the TENSORPIPE backend.\n",
      "4 callers spawned, awaiting start.\n",
      "csv logs will be saved at /home/mijan103/logs/pytorch_seed_rl/scaling_experiment/a_04_p_1_i_4_n_08/csv\n",
      "Caller loops started.\n",
      "Loop started. You can interupt using strg+c.\n",
      "Answering pending RPCs\n",
      "Write and empty log buffers.\n",
      "Join prefetch threads.\n",
      "Running garbage collection.\n",
      "\n",
      "============== REPORT ==============\n",
      "infered 101624 steps\n",
      "in 231.65826320648193 seconds\n",
      "==> 438.6806608725214 fps\n",
      "trained 100160 steps\n",
      "in 231.65826320648193 seconds\n",
      "==> 432.36100717342106 fps\n",
      "Total inference_time: 133.4893000125885 seconds\n",
      "Total training_time: 10.05622410774231 seconds\n",
      "Total fetching_time: 8.127881288528442 seconds\n",
      "Mean inference latency: 0.053807192783859745 seconds\n",
      "RPC was initialized with the PROCESS_GROUP backend which is deprecated and slated to be removed and superseded by the TENSORPIPE backend. It is recommended to migrate to the TENSORPIPE backend.\n",
      "RPC was initialized with the PROCESS_GROUP backend which is deprecated and slated to be removed and superseded by the TENSORPIPE backend. It is recommended to migrate to the TENSORPIPE backend.\n",
      "RPC was initialized with the PROCESS_GROUP backend which is deprecated and slated to be removed and superseded by the TENSORPIPE backend. It is recommended to migrate to the TENSORPIPE backend.\n",
      "RPC was initialized with the PROCESS_GROUP backend which is deprecated and slated to be removed and superseded by the TENSORPIPE backend. It is recommended to migrate to the TENSORPIPE backend.\n",
      "RPC was initialized with the PROCESS_GROUP backend which is deprecated and slated to be removed and superseded by the TENSORPIPE backend. It is recommended to migrate to the TENSORPIPE backend.\n",
      "4 callers spawned, awaiting start.\n",
      "csv logs will be saved at /home/mijan103/logs/pytorch_seed_rl/scaling_experiment/a_04_p_1_i_4_n_16/csv\n",
      "Caller loops started.\n",
      "Loop started. You can interupt using strg+c.\n",
      "Answering pending RPCs\n",
      "Write and empty log buffers.\n",
      "Join prefetch threads.\n",
      "Running garbage collection.\n",
      "\n",
      "============== REPORT ==============\n",
      "infered 102400 steps\n",
      "in 210.24307012557983 seconds\n",
      "==> 487.0552924233635 fps\n",
      "trained 100160 steps\n",
      "in 210.24307012557983 seconds\n",
      "==> 476.4009579016024 fps\n",
      "Total inference_time: 86.98838496208191 seconds\n",
      "Total training_time: 14.457921504974365 seconds\n",
      "Total fetching_time: 10.951048135757446 seconds\n",
      "Mean inference latency: 0.10207126804726396 seconds\n",
      "RPC was initialized with the PROCESS_GROUP backend which is deprecated and slated to be removed and superseded by the TENSORPIPE backend. It is recommended to migrate to the TENSORPIPE backend.\n",
      "RPC was initialized with the PROCESS_GROUP backend which is deprecated and slated to be removed and superseded by the TENSORPIPE backend. It is recommended to migrate to the TENSORPIPE backend.\n",
      "RPC was initialized with the PROCESS_GROUP backend which is deprecated and slated to be removed and superseded by the TENSORPIPE backend. It is recommended to migrate to the TENSORPIPE backend.\n",
      "RPC was initialized with the PROCESS_GROUP backend which is deprecated and slated to be removed and superseded by the TENSORPIPE backend. It is recommended to migrate to the TENSORPIPE backend.\n",
      "RPC was initialized with the PROCESS_GROUP backend which is deprecated and slated to be removed and superseded by the TENSORPIPE backend. It is recommended to migrate to the TENSORPIPE backend.\n",
      "4 callers spawned, awaiting start.\n",
      "csv logs will be saved at /home/mijan103/logs/pytorch_seed_rl/scaling_experiment/a_04_p_1_i_4_n_32/csv\n",
      "Caller loops started.\n",
      "Loop started. You can interupt using strg+c.\n"
     ]
    }
   ],
   "source": [
    "for e_str in experiment_strings:\n",
    "    !python3 -m pytorch_seed_rl.run $e_str --gpu_ids $GPU --total_steps 100000"
   ]
  },
  {
   "cell_type": "code",
   "execution_count": null,
   "metadata": {},
   "outputs": [],
   "source": []
  }
 ],
 "metadata": {
  "kernelspec": {
   "display_name": "Python 3",
   "language": "python",
   "name": "python3"
  },
  "language_info": {
   "codemirror_mode": {
    "name": "ipython",
    "version": 3
   },
   "file_extension": ".py",
   "mimetype": "text/x-python",
   "name": "python",
   "nbconvert_exporter": "python",
   "pygments_lexer": "ipython3",
   "version": "3.7.3"
  }
 },
 "nbformat": 4,
 "nbformat_minor": 4
}
