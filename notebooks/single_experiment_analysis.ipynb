{
 "cells": [
  {
   "cell_type": "code",
   "execution_count": 1,
   "metadata": {},
   "outputs": [],
   "source": [
    "import pandas as pd\n",
    "from matplotlib import pyplot as plt"
   ]
  },
  {
   "cell_type": "code",
   "execution_count": 2,
   "metadata": {},
   "outputs": [
    {
     "name": "stdout",
     "output_type": "stream",
     "text": [
      "run_experiments.ipynb\t  scaling_experiment.ipynb\t    system_info.ipynb\n",
      "scaling_analysis.ipynb\t  scaling.pdf\n",
      "scaling_data_system2.csv  single_experiment_analysis.ipynb\n"
     ]
    }
   ],
   "source": [
    "!ls"
   ]
  },
  {
   "cell_type": "code",
   "execution_count": 3,
   "metadata": {},
   "outputs": [],
   "source": [
    "path = '/home/garg1/logs/pytorch_seed_rl/scaling_experiment_final/a_04_p_2_i_1_n_64_s_02/csv/'\n",
    "#path = 'pytorch_seed_rl/scaling_experiment/a_01_p_1_n_004/csv/'"
   ]
  },
  {
   "cell_type": "code",
   "execution_count": 4,
   "metadata": {},
   "outputs": [],
   "source": [
    "eps_df = pd.read_csv(path + 'episodes.csv')"
   ]
  },
  {
   "cell_type": "code",
   "execution_count": 5,
   "metadata": {},
   "outputs": [],
   "source": [
    "eps_df = eps_df.sort_values('episode_id')"
   ]
  },
  {
   "cell_type": "code",
   "execution_count": 6,
   "metadata": {},
   "outputs": [],
   "source": [
    "# eps_df = eps_df[eps_df['episode_id']< 75000]"
   ]
  },
  {
   "cell_type": "code",
   "execution_count": 7,
   "metadata": {},
   "outputs": [
    {
     "data": {
      "text/html": [
       "<div>\n",
       "<style scoped>\n",
       "    .dataframe tbody tr th:only-of-type {\n",
       "        vertical-align: middle;\n",
       "    }\n",
       "\n",
       "    .dataframe tbody tr th {\n",
       "        vertical-align: top;\n",
       "    }\n",
       "\n",
       "    .dataframe thead th {\n",
       "        text-align: right;\n",
       "    }\n",
       "</style>\n",
       "<table border=\"1\" class=\"dataframe\">\n",
       "  <thead>\n",
       "    <tr style=\"text-align: right;\">\n",
       "      <th></th>\n",
       "      <th>episode_id</th>\n",
       "      <th>return</th>\n",
       "      <th>length</th>\n",
       "      <th>training_steps</th>\n",
       "    </tr>\n",
       "  </thead>\n",
       "  <tbody>\n",
       "    <tr>\n",
       "      <th>598</th>\n",
       "      <td>695.0</td>\n",
       "      <td>0.0</td>\n",
       "      <td>238</td>\n",
       "      <td>80960.0</td>\n",
       "    </tr>\n",
       "    <tr>\n",
       "      <th>600</th>\n",
       "      <td>696.0</td>\n",
       "      <td>0.0</td>\n",
       "      <td>238</td>\n",
       "      <td>80960.0</td>\n",
       "    </tr>\n",
       "    <tr>\n",
       "      <th>596</th>\n",
       "      <td>697.0</td>\n",
       "      <td>0.0</td>\n",
       "      <td>238</td>\n",
       "      <td>80960.0</td>\n",
       "    </tr>\n",
       "    <tr>\n",
       "      <th>599</th>\n",
       "      <td>698.0</td>\n",
       "      <td>0.0</td>\n",
       "      <td>238</td>\n",
       "      <td>80960.0</td>\n",
       "    </tr>\n",
       "    <tr>\n",
       "      <th>601</th>\n",
       "      <td>699.0</td>\n",
       "      <td>0.0</td>\n",
       "      <td>238</td>\n",
       "      <td>80960.0</td>\n",
       "    </tr>\n",
       "  </tbody>\n",
       "</table>\n",
       "</div>"
      ],
      "text/plain": [
       "     episode_id  return  length  training_steps\n",
       "598       695.0     0.0     238         80960.0\n",
       "600       696.0     0.0     238         80960.0\n",
       "596       697.0     0.0     238         80960.0\n",
       "599       698.0     0.0     238         80960.0\n",
       "601       699.0     0.0     238         80960.0"
      ]
     },
     "execution_count": 7,
     "metadata": {},
     "output_type": "execute_result"
    }
   ],
   "source": [
    "eps_df.tail()"
   ]
  },
  {
   "cell_type": "code",
   "execution_count": 8,
   "metadata": {},
   "outputs": [],
   "source": [
    "eps_df['count'] = eps_df.groupby(['training_steps'])['episode_id'].agg('count')"
   ]
  },
  {
   "cell_type": "code",
   "execution_count": 9,
   "metadata": {},
   "outputs": [
    {
     "data": {
      "text/plain": [
       "<matplotlib.axes._subplots.AxesSubplot at 0x7f0b6b563490>"
      ]
     },
     "execution_count": 9,
     "metadata": {},
     "output_type": "execute_result"
    },
    {
     "data": {
      "image/png": "[encoded data removed]",
      "text/plain": [
       "<Figure size 432x288 with 1 Axes>"
      ]
     },
     "metadata": {
      "needs_background": "light"
     },
     "output_type": "display_data"
    }
   ],
   "source": [
    "eps_df.plot(x='episode_id', y='return')"
   ]
  },
  {
   "cell_type": "markdown",
   "metadata": {},
   "source": [
    "eps_df.plot(x='episode_id', y='length')"
   ]
  },
  {
   "cell_type": "code",
   "execution_count": 10,
   "metadata": {},
   "outputs": [],
   "source": [
    "t_df = pd.read_csv(path + 'training.csv')"
   ]
  },
  {
   "cell_type": "code",
   "execution_count": 11,
   "metadata": {},
   "outputs": [],
   "source": [
    "# t_df = t_df[t_df['training_steps'] < 5565760]"
   ]
  },
  {
   "cell_type": "code",
   "execution_count": 12,
   "metadata": {},
   "outputs": [
    {
     "data": {
      "text/plain": [
       "<matplotlib.axes._subplots.AxesSubplot at 0x7f0b6ad0ee10>"
      ]
     },
     "execution_count": 12,
     "metadata": {},
     "output_type": "execute_result"
    },
    {
     "data": {
      "image/png": "[encoded data removed]",
      "text/plain": [
       "<Figure size 432x288 with 1 Axes>"
      ]
     },
     "metadata": {
      "needs_background": "light"
     },
     "output_type": "display_data"
    }
   ],
   "source": [
    "t_df.plot(x='training_steps', y='total_loss')"
   ]
  },
  {
   "cell_type": "code",
   "execution_count": 13,
   "metadata": {},
   "outputs": [
    {
     "data": {
      "text/plain": [
       "<matplotlib.axes._subplots.AxesSubplot at 0x7f0b6ac48990>"
      ]
     },
     "execution_count": 13,
     "metadata": {},
     "output_type": "execute_result"
    },
    {
     "data": {
      "image/png": "[encoded data removed]",
      "text/plain": [
       "<Figure size 432x288 with 1 Axes>"
      ]
     },
     "metadata": {
      "needs_background": "light"
     },
     "output_type": "display_data"
    }
   ],
   "source": [
    "t_df.plot(x='training_steps', y='entropy_loss')"
   ]
  },
  {
   "cell_type": "code",
   "execution_count": 14,
   "metadata": {},
   "outputs": [
    {
     "data": {
      "text/plain": [
       "<matplotlib.axes._subplots.AxesSubplot at 0x7f0b6abc0ed0>"
      ]
     },
     "execution_count": 14,
     "metadata": {},
     "output_type": "execute_result"
    },
    {
     "data": {
      "image/png": "[encoded data removed]",
      "text/plain": [
       "<Figure size 432x288 with 1 Axes>"
      ]
     },
     "metadata": {
      "needs_background": "light"
     },
     "output_type": "display_data"
    }
   ],
   "source": [
    "t_df.plot(x='training_steps', y='baseline_loss')"
   ]
  },
  {
   "cell_type": "code",
   "execution_count": 15,
   "metadata": {},
   "outputs": [
    {
     "data": {
      "text/plain": [
       "<matplotlib.axes._subplots.AxesSubplot at 0x7f0b6ab41210>"
      ]
     },
     "execution_count": 15,
     "metadata": {},
     "output_type": "execute_result"
    },
    {
     "data": {
      "image/png": "[encoded data removed]",
      "text/plain": [
       "<Figure size 432x288 with 1 Axes>"
      ]
     },
     "metadata": {
      "needs_background": "light"
     },
     "output_type": "display_data"
    }
   ],
   "source": [
    "t_df.plot(x='training_steps', y='pg_loss', ylim=[-50, 50])"
   ]
  },
  {
   "cell_type": "code",
   "execution_count": 16,
   "metadata": {},
   "outputs": [],
   "source": [
    "s_df = pd.read_csv(path + 'system.csv')\n",
    "# s_df = pd.read_csv('pytorch_seed_rl/scaling_experiment/a_01_p_1_n_004/csv/system.csv')"
   ]
  },
  {
   "cell_type": "code",
   "execution_count": 17,
   "metadata": {},
   "outputs": [
    {
     "data": {
      "text/html": [
       "<div>\n",
       "<style scoped>\n",
       "    .dataframe tbody tr th:only-of-type {\n",
       "        vertical-align: middle;\n",
       "    }\n",
       "\n",
       "    .dataframe tbody tr th {\n",
       "        vertical-align: top;\n",
       "    }\n",
       "\n",
       "    .dataframe thead th {\n",
       "        text-align: right;\n",
       "    }\n",
       "</style>\n",
       "<table border=\"1\" class=\"dataframe\">\n",
       "  <thead>\n",
       "    <tr style=\"text-align: right;\">\n",
       "      <th></th>\n",
       "      <th>runtime</th>\n",
       "      <th>trajectories_seen</th>\n",
       "      <th>episodes_seen</th>\n",
       "      <th>mean_inference_latency</th>\n",
       "      <th>fetching_time</th>\n",
       "      <th>inference_time</th>\n",
       "      <th>inference_steps</th>\n",
       "      <th>training_time</th>\n",
       "      <th>training_steps</th>\n",
       "      <th>queue_batches</th>\n",
       "      <th>queue_drops</th>\n",
       "      <th>queue_rpcs</th>\n",
       "      <th>queue_storing</th>\n",
       "    </tr>\n",
       "  </thead>\n",
       "  <tbody>\n",
       "    <tr>\n",
       "      <th>0</th>\n",
       "      <td>14.217756</td>\n",
       "      <td>0</td>\n",
       "      <td>0</td>\n",
       "      <td>0.000000</td>\n",
       "      <td>0.0</td>\n",
       "      <td>0.432948</td>\n",
       "      <td>5743</td>\n",
       "      <td>0.0</td>\n",
       "      <td>0</td>\n",
       "      <td>0</td>\n",
       "      <td>0</td>\n",
       "      <td>56</td>\n",
       "      <td>1024</td>\n",
       "    </tr>\n",
       "    <tr>\n",
       "      <th>1</th>\n",
       "      <td>19.221774</td>\n",
       "      <td>0</td>\n",
       "      <td>0</td>\n",
       "      <td>0.000000</td>\n",
       "      <td>0.0</td>\n",
       "      <td>0.602973</td>\n",
       "      <td>11072</td>\n",
       "      <td>0.0</td>\n",
       "      <td>0</td>\n",
       "      <td>0</td>\n",
       "      <td>0</td>\n",
       "      <td>2</td>\n",
       "      <td>1024</td>\n",
       "    </tr>\n",
       "    <tr>\n",
       "      <th>2</th>\n",
       "      <td>24.227042</td>\n",
       "      <td>0</td>\n",
       "      <td>0</td>\n",
       "      <td>0.000000</td>\n",
       "      <td>0.0</td>\n",
       "      <td>0.785493</td>\n",
       "      <td>16320</td>\n",
       "      <td>0.0</td>\n",
       "      <td>0</td>\n",
       "      <td>0</td>\n",
       "      <td>0</td>\n",
       "      <td>9</td>\n",
       "      <td>1024</td>\n",
       "    </tr>\n",
       "    <tr>\n",
       "      <th>3</th>\n",
       "      <td>29.229921</td>\n",
       "      <td>58</td>\n",
       "      <td>58</td>\n",
       "      <td>0.211988</td>\n",
       "      <td>0.0</td>\n",
       "      <td>0.989332</td>\n",
       "      <td>21184</td>\n",
       "      <td>0.0</td>\n",
       "      <td>0</td>\n",
       "      <td>0</td>\n",
       "      <td>55</td>\n",
       "      <td>128</td>\n",
       "      <td>1024</td>\n",
       "    </tr>\n",
       "    <tr>\n",
       "      <th>4</th>\n",
       "      <td>30.462226</td>\n",
       "      <td>135</td>\n",
       "      <td>134</td>\n",
       "      <td>0.239748</td>\n",
       "      <td>0.0</td>\n",
       "      <td>0.998500</td>\n",
       "      <td>21568</td>\n",
       "      <td>0.0</td>\n",
       "      <td>320</td>\n",
       "      <td>32</td>\n",
       "      <td>0</td>\n",
       "      <td>128</td>\n",
       "      <td>1024</td>\n",
       "    </tr>\n",
       "    <tr>\n",
       "      <th>...</th>\n",
       "      <td>...</td>\n",
       "      <td>...</td>\n",
       "      <td>...</td>\n",
       "      <td>...</td>\n",
       "      <td>...</td>\n",
       "      <td>...</td>\n",
       "      <td>...</td>\n",
       "      <td>...</td>\n",
       "      <td>...</td>\n",
       "      <td>...</td>\n",
       "      <td>...</td>\n",
       "      <td>...</td>\n",
       "      <td>...</td>\n",
       "    </tr>\n",
       "    <tr>\n",
       "      <th>651</th>\n",
       "      <td>228.448904</td>\n",
       "      <td>2514</td>\n",
       "      <td>602</td>\n",
       "      <td>0.205798</td>\n",
       "      <td>0.0</td>\n",
       "      <td>6.611787</td>\n",
       "      <td>206016</td>\n",
       "      <td>0.0</td>\n",
       "      <td>198720</td>\n",
       "      <td>0</td>\n",
       "      <td>0</td>\n",
       "      <td>128</td>\n",
       "      <td>1024</td>\n",
       "    </tr>\n",
       "    <tr>\n",
       "      <th>652</th>\n",
       "      <td>228.491966</td>\n",
       "      <td>2519</td>\n",
       "      <td>602</td>\n",
       "      <td>0.205798</td>\n",
       "      <td>0.0</td>\n",
       "      <td>6.611787</td>\n",
       "      <td>206016</td>\n",
       "      <td>0.0</td>\n",
       "      <td>199040</td>\n",
       "      <td>1</td>\n",
       "      <td>0</td>\n",
       "      <td>128</td>\n",
       "      <td>1024</td>\n",
       "    </tr>\n",
       "    <tr>\n",
       "      <th>653</th>\n",
       "      <td>228.527839</td>\n",
       "      <td>2522</td>\n",
       "      <td>602</td>\n",
       "      <td>0.205798</td>\n",
       "      <td>0.0</td>\n",
       "      <td>6.611787</td>\n",
       "      <td>206016</td>\n",
       "      <td>0.0</td>\n",
       "      <td>199360</td>\n",
       "      <td>0</td>\n",
       "      <td>0</td>\n",
       "      <td>128</td>\n",
       "      <td>1024</td>\n",
       "    </tr>\n",
       "    <tr>\n",
       "      <th>654</th>\n",
       "      <td>228.567295</td>\n",
       "      <td>2527</td>\n",
       "      <td>602</td>\n",
       "      <td>0.205798</td>\n",
       "      <td>0.0</td>\n",
       "      <td>6.611787</td>\n",
       "      <td>206016</td>\n",
       "      <td>0.0</td>\n",
       "      <td>199680</td>\n",
       "      <td>1</td>\n",
       "      <td>0</td>\n",
       "      <td>128</td>\n",
       "      <td>1024</td>\n",
       "    </tr>\n",
       "    <tr>\n",
       "      <th>655</th>\n",
       "      <td>228.603700</td>\n",
       "      <td>2530</td>\n",
       "      <td>602</td>\n",
       "      <td>0.205798</td>\n",
       "      <td>0.0</td>\n",
       "      <td>6.611787</td>\n",
       "      <td>206016</td>\n",
       "      <td>0.0</td>\n",
       "      <td>200000</td>\n",
       "      <td>0</td>\n",
       "      <td>0</td>\n",
       "      <td>128</td>\n",
       "      <td>1024</td>\n",
       "    </tr>\n",
       "  </tbody>\n",
       "</table>\n",
       "<p>656 rows × 13 columns</p>\n",
       "</div>"
      ],
      "text/plain": [
       "        runtime  trajectories_seen  episodes_seen  mean_inference_latency  \\\n",
       "0     14.217756                  0              0                0.000000   \n",
       "1     19.221774                  0              0                0.000000   \n",
       "2     24.227042                  0              0                0.000000   \n",
       "3     29.229921                 58             58                0.211988   \n",
       "4     30.462226                135            134                0.239748   \n",
       "..          ...                ...            ...                     ...   \n",
       "651  228.448904               2514            602                0.205798   \n",
       "652  228.491966               2519            602                0.205798   \n",
       "653  228.527839               2522            602                0.205798   \n",
       "654  228.567295               2527            602                0.205798   \n",
       "655  228.603700               2530            602                0.205798   \n",
       "\n",
       "     fetching_time  inference_time  inference_steps  training_time  \\\n",
       "0              0.0        0.432948             5743            0.0   \n",
       "1              0.0        0.602973            11072            0.0   \n",
       "2              0.0        0.785493            16320            0.0   \n",
       "3              0.0        0.989332            21184            0.0   \n",
       "4              0.0        0.998500            21568            0.0   \n",
       "..             ...             ...              ...            ...   \n",
       "651            0.0        6.611787           206016            0.0   \n",
       "652            0.0        6.611787           206016            0.0   \n",
       "653            0.0        6.611787           206016            0.0   \n",
       "654            0.0        6.611787           206016            0.0   \n",
       "655            0.0        6.611787           206016            0.0   \n",
       "\n",
       "     training_steps  queue_batches  queue_drops  queue_rpcs  queue_storing  \n",
       "0                 0              0            0          56           1024  \n",
       "1                 0              0            0           2           1024  \n",
       "2                 0              0            0           9           1024  \n",
       "3                 0              0           55         128           1024  \n",
       "4               320             32            0         128           1024  \n",
       "..              ...            ...          ...         ...            ...  \n",
       "651          198720              0            0         128           1024  \n",
       "652          199040              1            0         128           1024  \n",
       "653          199360              0            0         128           1024  \n",
       "654          199680              1            0         128           1024  \n",
       "655          200000              0            0         128           1024  \n",
       "\n",
       "[656 rows x 13 columns]"
      ]
     },
     "execution_count": 17,
     "metadata": {},
     "output_type": "execute_result"
    }
   ],
   "source": [
    "s_df"
   ]
  },
  {
   "cell_type": "code",
   "execution_count": 18,
   "metadata": {},
   "outputs": [],
   "source": [
    "s_df['t_fps'] = s_df['training_steps']/s_df['runtime']\n",
    "s_df['i_fps'] = s_df['inference_steps']/s_df['runtime']"
   ]
  },
  {
   "cell_type": "code",
   "execution_count": 19,
   "metadata": {},
   "outputs": [
    {
     "data": {
      "text/plain": [
       "(901.1927631520703, 874.8764786735692)"
      ]
     },
     "execution_count": 19,
     "metadata": {},
     "output_type": "execute_result"
    }
   ],
   "source": [
    "s_df.iloc[-1]['i_fps'], s_df.iloc[-1]['t_fps']"
   ]
  },
  {
   "cell_type": "code",
   "execution_count": 24,
   "metadata": {},
   "outputs": [
    {
     "data": {
      "text/plain": [
       "<matplotlib.axes._subplots.AxesSubplot at 0x7f0b678bdf90>"
      ]
     },
     "execution_count": 24,
     "metadata": {},
     "output_type": "execute_result"
    },
    {
     "data": {
      "image/png": "[encoded data removed]",
      "text/plain": [
       "<Figure size 432x288 with 1 Axes>"
      ]
     },
     "metadata": {
      "needs_background": "light"
     },
     "output_type": "display_data"
    }
   ],
   "source": [
    "s_df[:1000].plot(x='runtime', y=['queue_storing', 'queue_rpcs', 'queue_drops','queue_batches'])"
   ]
  },
  {
   "cell_type": "code",
   "execution_count": 21,
   "metadata": {},
   "outputs": [
    {
     "data": {
      "text/plain": [
       "queue_storing             1023.609756\n",
       "queue_rpcs                 107.501524\n",
       "queue_drops                  0.092988\n",
       "queue_batches                2.414634\n",
       "mean_inference_latency       0.210081\n",
       "dtype: float64"
      ]
     },
     "execution_count": 21,
     "metadata": {},
     "output_type": "execute_result"
    }
   ],
   "source": [
    "s_df[['queue_storing','queue_rpcs', 'queue_drops','queue_batches', 'mean_inference_latency']][-1000:].mean()"
   ]
  },
  {
   "cell_type": "code",
   "execution_count": 33,
   "metadata": {},
   "outputs": [],
   "source": [
    "s_df = s_df.rename(columns={\n",
    "    'runtime': 'Runtime [s]',\n",
    "    'i_fps': 'Inference',\n",
    "    't_fps': 'Training',\n",
    "})"
   ]
  },
  {
   "cell_type": "code",
   "execution_count": 60,
   "metadata": {},
   "outputs": [
    {
     "data": {
      "image/png": "[encoded data removed]",
      "text/plain": [
       "<Figure size 576x288 with 1 Axes>"
      ]
     },
     "metadata": {
      "needs_background": "light"
     },
     "output_type": "display_data"
    }
   ],
   "source": [
    "plt.rcParams.update({'font.size': 12,\n",
    "                     'font.family': \"serif\"})\n",
    "s_df.plot(x='Runtime [s]', y=['Inference', 'Training'], figsize=(8,4))\n",
    "plt.legend(title='Thread')\n",
    "plt.ylabel('Frames per second')\n",
    "plt.savefig('threads.pdf')"
   ]
  },
  {
   "cell_type": "code",
   "execution_count": null,
   "metadata": {},
   "outputs": [],
   "source": []
  }
 ],
 "metadata": {
  "kernelspec": {
   "display_name": "Python 3",
   "language": "python",
   "name": "python3"
  },
  "language_info": {
   "codemirror_mode": {
    "name": "ipython",
    "version": 3
   },
   "file_extension": ".py",
   "mimetype": "text/x-python",
   "name": "python",
   "nbconvert_exporter": "python",
   "pygments_lexer": "ipython3",
   "version": "3.7.6"
  }
 },
 "nbformat": 4,
 "nbformat_minor": 4
}
