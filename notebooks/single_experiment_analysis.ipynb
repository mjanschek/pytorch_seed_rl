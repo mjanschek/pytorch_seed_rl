{
 "cells": [
  {
   "cell_type": "code",
   "execution_count": 1,
   "metadata": {},
   "outputs": [],
   "source": [
    "import pandas as pd\n",
    "from matplotlib import pyplot as plt"
   ]
  },
  {
   "cell_type": "code",
   "execution_count": 2,
   "metadata": {},
   "outputs": [
    {
     "name": "stdout",
     "output_type": "stream",
     "text": [
      "learning_experiment.ipynb  scaling_data_system2.csv\t     system_info.ipynb\n",
      "run_experiments.ipynb\t   scaling_experiment.ipynb\t     threads.pdf\n",
      "scaling_analysis.ipynb\t   scaling.pdf\n",
      "scaling_data_system1.csv   single_experiment_analysis.ipynb\n"
     ]
    }
   ],
   "source": [
    "!ls"
   ]
  },
  {
   "cell_type": "code",
   "execution_count": 3,
   "metadata": {},
   "outputs": [],
   "source": [
    "path = '/home/garg1/logs/pytorch_seed_rl/learning_system_2/csv/'\n",
    "#path = 'pytorch_seed_rl/scaling_experiment/a_01_p_1_n_004/csv/'"
   ]
  },
  {
   "cell_type": "code",
   "execution_count": 4,
   "metadata": {},
   "outputs": [],
   "source": [
    "eps_df = pd.read_csv(path + 'episodes.csv')"
   ]
  },
  {
   "cell_type": "code",
   "execution_count": 5,
   "metadata": {},
   "outputs": [],
   "source": [
    "eps_df = eps_df.sort_values('training_steps')"
   ]
  },
  {
   "cell_type": "code",
   "execution_count": 6,
   "metadata": {},
   "outputs": [],
   "source": [
    "# eps_df = eps_df[eps_df['episode_id']< 75000]"
   ]
  },
  {
   "cell_type": "code",
   "execution_count": 7,
   "metadata": {},
   "outputs": [
    {
     "data": {
      "text/html": [
       "<div>\n",
       "<style scoped>\n",
       "    .dataframe tbody tr th:only-of-type {\n",
       "        vertical-align: middle;\n",
       "    }\n",
       "\n",
       "    .dataframe tbody tr th {\n",
       "        vertical-align: top;\n",
       "    }\n",
       "\n",
       "    .dataframe thead th {\n",
       "        text-align: right;\n",
       "    }\n",
       "</style>\n",
       "<table border=\"1\" class=\"dataframe\">\n",
       "  <thead>\n",
       "    <tr style=\"text-align: right;\">\n",
       "      <th></th>\n",
       "      <th>episode_id</th>\n",
       "      <th>return</th>\n",
       "      <th>length</th>\n",
       "      <th>training_steps</th>\n",
       "    </tr>\n",
       "  </thead>\n",
       "  <tbody>\n",
       "    <tr>\n",
       "      <th>480458</th>\n",
       "      <td>15270.0</td>\n",
       "      <td>2.0</td>\n",
       "      <td>104</td>\n",
       "      <td>49998080.0</td>\n",
       "    </tr>\n",
       "    <tr>\n",
       "      <th>480449</th>\n",
       "      <td>15201.0</td>\n",
       "      <td>5.0</td>\n",
       "      <td>127</td>\n",
       "      <td>49998080.0</td>\n",
       "    </tr>\n",
       "    <tr>\n",
       "      <th>480448</th>\n",
       "      <td>15223.0</td>\n",
       "      <td>2.0</td>\n",
       "      <td>119</td>\n",
       "      <td>49998080.0</td>\n",
       "    </tr>\n",
       "    <tr>\n",
       "      <th>480464</th>\n",
       "      <td>15007.0</td>\n",
       "      <td>5.0</td>\n",
       "      <td>213</td>\n",
       "      <td>49998080.0</td>\n",
       "    </tr>\n",
       "    <tr>\n",
       "      <th>480469</th>\n",
       "      <td>15357.0</td>\n",
       "      <td>1.0</td>\n",
       "      <td>68</td>\n",
       "      <td>49998080.0</td>\n",
       "    </tr>\n",
       "  </tbody>\n",
       "</table>\n",
       "</div>"
      ],
      "text/plain": [
       "        episode_id  return  length  training_steps\n",
       "480458     15270.0     2.0     104      49998080.0\n",
       "480449     15201.0     5.0     127      49998080.0\n",
       "480448     15223.0     2.0     119      49998080.0\n",
       "480464     15007.0     5.0     213      49998080.0\n",
       "480469     15357.0     1.0      68      49998080.0"
      ]
     },
     "execution_count": 7,
     "metadata": {},
     "output_type": "execute_result"
    }
   ],
   "source": [
    "eps_df.tail()"
   ]
  },
  {
   "cell_type": "code",
   "execution_count": 8,
   "metadata": {},
   "outputs": [],
   "source": [
    "eps_df['count'] = eps_df.groupby(['training_steps'])['episode_id'].agg('count')"
   ]
  },
  {
   "cell_type": "code",
   "execution_count": 9,
   "metadata": {},
   "outputs": [
    {
     "data": {
      "text/plain": [
       "<matplotlib.axes._subplots.AxesSubplot at 0x7f5f9c60eb90>"
      ]
     },
     "execution_count": 9,
     "metadata": {},
     "output_type": "execute_result"
    },
    {
     "data": {
      "image/png": "[encoded data removed]",
      "text/plain": [
       "<Figure size 432x288 with 1 Axes>"
      ]
     },
     "metadata": {
      "needs_background": "light"
     },
     "output_type": "display_data"
    }
   ],
   "source": [
    "eps_df.plot(x='training_steps', y='return')"
   ]
  },
  {
   "cell_type": "markdown",
   "metadata": {},
   "source": [
    "eps_df.plot(x='episode_id', y='length')"
   ]
  },
  {
   "cell_type": "code",
   "execution_count": 10,
   "metadata": {},
   "outputs": [],
   "source": [
    "t_df = pd.read_csv(path + 'training.csv')"
   ]
  },
  {
   "cell_type": "code",
   "execution_count": 11,
   "metadata": {},
   "outputs": [
    {
     "data": {
      "text/html": [
       "<div>\n",
       "<style scoped>\n",
       "    .dataframe tbody tr th:only-of-type {\n",
       "        vertical-align: middle;\n",
       "    }\n",
       "\n",
       "    .dataframe tbody tr th {\n",
       "        vertical-align: top;\n",
       "    }\n",
       "\n",
       "    .dataframe thead th {\n",
       "        text-align: right;\n",
       "    }\n",
       "</style>\n",
       "<table border=\"1\" class=\"dataframe\">\n",
       "  <thead>\n",
       "    <tr style=\"text-align: right;\">\n",
       "      <th></th>\n",
       "      <th>runtime</th>\n",
       "      <th>training_time</th>\n",
       "      <th>training_epoch</th>\n",
       "      <th>training_steps</th>\n",
       "      <th>total_loss</th>\n",
       "      <th>pg_loss</th>\n",
       "      <th>baseline_loss</th>\n",
       "      <th>entropy_loss</th>\n",
       "    </tr>\n",
       "  </thead>\n",
       "  <tbody>\n",
       "    <tr>\n",
       "      <th>0</th>\n",
       "      <td>16.378516</td>\n",
       "      <td>0.0</td>\n",
       "      <td>1</td>\n",
       "      <td>640</td>\n",
       "      <td>-8.812935</td>\n",
       "      <td>-0.610352</td>\n",
       "      <td>0.448178</td>\n",
       "      <td>-842.667236</td>\n",
       "    </tr>\n",
       "    <tr>\n",
       "      <th>1</th>\n",
       "      <td>16.408226</td>\n",
       "      <td>0.0</td>\n",
       "      <td>2</td>\n",
       "      <td>1280</td>\n",
       "      <td>-9.849949</td>\n",
       "      <td>-1.568076</td>\n",
       "      <td>0.287468</td>\n",
       "      <td>-842.560791</td>\n",
       "    </tr>\n",
       "    <tr>\n",
       "      <th>2</th>\n",
       "      <td>16.437268</td>\n",
       "      <td>0.0</td>\n",
       "      <td>3</td>\n",
       "      <td>1920</td>\n",
       "      <td>-6.215840</td>\n",
       "      <td>2.105001</td>\n",
       "      <td>0.203762</td>\n",
       "      <td>-842.272339</td>\n",
       "    </tr>\n",
       "    <tr>\n",
       "      <th>3</th>\n",
       "      <td>16.467986</td>\n",
       "      <td>0.0</td>\n",
       "      <td>4</td>\n",
       "      <td>2560</td>\n",
       "      <td>-7.854550</td>\n",
       "      <td>0.509887</td>\n",
       "      <td>0.118102</td>\n",
       "      <td>-842.348877</td>\n",
       "    </tr>\n",
       "    <tr>\n",
       "      <th>4</th>\n",
       "      <td>16.539434</td>\n",
       "      <td>0.0</td>\n",
       "      <td>5</td>\n",
       "      <td>3200</td>\n",
       "      <td>-6.613726</td>\n",
       "      <td>1.769937</td>\n",
       "      <td>0.082706</td>\n",
       "      <td>-842.501648</td>\n",
       "    </tr>\n",
       "    <tr>\n",
       "      <th>...</th>\n",
       "      <td>...</td>\n",
       "      <td>...</td>\n",
       "      <td>...</td>\n",
       "      <td>...</td>\n",
       "      <td>...</td>\n",
       "      <td>...</td>\n",
       "      <td>...</td>\n",
       "      <td>...</td>\n",
       "    </tr>\n",
       "    <tr>\n",
       "      <th>78121</th>\n",
       "      <td>56630.022158</td>\n",
       "      <td>0.0</td>\n",
       "      <td>78122</td>\n",
       "      <td>49998080</td>\n",
       "      <td>-4.667934</td>\n",
       "      <td>-0.211182</td>\n",
       "      <td>5.110853</td>\n",
       "      <td>-701.217896</td>\n",
       "    </tr>\n",
       "    <tr>\n",
       "      <th>78122</th>\n",
       "      <td>56632.230089</td>\n",
       "      <td>0.0</td>\n",
       "      <td>78123</td>\n",
       "      <td>49998720</td>\n",
       "      <td>2.773890</td>\n",
       "      <td>0.295026</td>\n",
       "      <td>19.041729</td>\n",
       "      <td>-704.200012</td>\n",
       "    </tr>\n",
       "    <tr>\n",
       "      <th>78123</th>\n",
       "      <td>56632.360904</td>\n",
       "      <td>0.0</td>\n",
       "      <td>78124</td>\n",
       "      <td>49999360</td>\n",
       "      <td>-10.054674</td>\n",
       "      <td>-7.330674</td>\n",
       "      <td>8.554561</td>\n",
       "      <td>-700.128113</td>\n",
       "    </tr>\n",
       "    <tr>\n",
       "      <th>78124</th>\n",
       "      <td>56633.289870</td>\n",
       "      <td>0.0</td>\n",
       "      <td>78125</td>\n",
       "      <td>50000000</td>\n",
       "      <td>-1.564484</td>\n",
       "      <td>1.640993</td>\n",
       "      <td>7.121736</td>\n",
       "      <td>-676.634583</td>\n",
       "    </tr>\n",
       "    <tr>\n",
       "      <th>78125</th>\n",
       "      <td>56633.442584</td>\n",
       "      <td>0.0</td>\n",
       "      <td>78126</td>\n",
       "      <td>50000640</td>\n",
       "      <td>-4.783717</td>\n",
       "      <td>-0.181285</td>\n",
       "      <td>4.758838</td>\n",
       "      <td>-698.185059</td>\n",
       "    </tr>\n",
       "  </tbody>\n",
       "</table>\n",
       "<p>78126 rows × 8 columns</p>\n",
       "</div>"
      ],
      "text/plain": [
       "            runtime  training_time  training_epoch  training_steps  \\\n",
       "0         16.378516            0.0               1             640   \n",
       "1         16.408226            0.0               2            1280   \n",
       "2         16.437268            0.0               3            1920   \n",
       "3         16.467986            0.0               4            2560   \n",
       "4         16.539434            0.0               5            3200   \n",
       "...             ...            ...             ...             ...   \n",
       "78121  56630.022158            0.0           78122        49998080   \n",
       "78122  56632.230089            0.0           78123        49998720   \n",
       "78123  56632.360904            0.0           78124        49999360   \n",
       "78124  56633.289870            0.0           78125        50000000   \n",
       "78125  56633.442584            0.0           78126        50000640   \n",
       "\n",
       "       total_loss   pg_loss  baseline_loss  entropy_loss  \n",
       "0       -8.812935 -0.610352       0.448178   -842.667236  \n",
       "1       -9.849949 -1.568076       0.287468   -842.560791  \n",
       "2       -6.215840  2.105001       0.203762   -842.272339  \n",
       "3       -7.854550  0.509887       0.118102   -842.348877  \n",
       "4       -6.613726  1.769937       0.082706   -842.501648  \n",
       "...           ...       ...            ...           ...  \n",
       "78121   -4.667934 -0.211182       5.110853   -701.217896  \n",
       "78122    2.773890  0.295026      19.041729   -704.200012  \n",
       "78123  -10.054674 -7.330674       8.554561   -700.128113  \n",
       "78124   -1.564484  1.640993       7.121736   -676.634583  \n",
       "78125   -4.783717 -0.181285       4.758838   -698.185059  \n",
       "\n",
       "[78126 rows x 8 columns]"
      ]
     },
     "execution_count": 11,
     "metadata": {},
     "output_type": "execute_result"
    }
   ],
   "source": [
    "t_df"
   ]
  },
  {
   "cell_type": "code",
   "execution_count": 12,
   "metadata": {},
   "outputs": [
    {
     "data": {
      "text/plain": [
       "<matplotlib.axes._subplots.AxesSubplot at 0x7f5f9b272050>"
      ]
     },
     "execution_count": 12,
     "metadata": {},
     "output_type": "execute_result"
    },
    {
     "data": {
      "image/png": "[encoded data removed]",
      "text/plain": [
       "<Figure size 432x288 with 1 Axes>"
      ]
     },
     "metadata": {
      "needs_background": "light"
     },
     "output_type": "display_data"
    }
   ],
   "source": [
    "t_df.plot(x='training_steps', y='total_loss')"
   ]
  },
  {
   "cell_type": "code",
   "execution_count": 13,
   "metadata": {},
   "outputs": [
    {
     "data": {
      "text/plain": [
       "<matplotlib.axes._subplots.AxesSubplot at 0x7f5f9b1e5c50>"
      ]
     },
     "execution_count": 13,
     "metadata": {},
     "output_type": "execute_result"
    },
    {
     "data": {
      "image/png": "[encoded data removed]",
      "text/plain": [
       "<Figure size 432x288 with 1 Axes>"
      ]
     },
     "metadata": {
      "needs_background": "light"
     },
     "output_type": "display_data"
    }
   ],
   "source": [
    "t_df.plot(x='training_steps', y='entropy_loss')"
   ]
  },
  {
   "cell_type": "code",
   "execution_count": 14,
   "metadata": {},
   "outputs": [
    {
     "data": {
      "text/plain": [
       "-693.4883120736289"
      ]
     },
     "execution_count": 14,
     "metadata": {},
     "output_type": "execute_result"
    }
   ],
   "source": [
    "t_df['entropy_loss'].mean()"
   ]
  },
  {
   "cell_type": "code",
   "execution_count": 15,
   "metadata": {},
   "outputs": [
    {
     "data": {
      "text/plain": [
       "-1.8517537824010382"
      ]
     },
     "execution_count": 15,
     "metadata": {},
     "output_type": "execute_result"
    }
   ],
   "source": [
    "t_df['pg_loss'].mean()"
   ]
  },
  {
   "cell_type": "code",
   "execution_count": 16,
   "metadata": {},
   "outputs": [
    {
     "data": {
      "text/plain": [
       "<matplotlib.axes._subplots.AxesSubplot at 0x7f5f9b16bc50>"
      ]
     },
     "execution_count": 16,
     "metadata": {},
     "output_type": "execute_result"
    },
    {
     "data": {
      "image/png": "[encoded data removed]",
      "text/plain": [
       "<Figure size 432x288 with 1 Axes>"
      ]
     },
     "metadata": {
      "needs_background": "light"
     },
     "output_type": "display_data"
    }
   ],
   "source": [
    "t_df.plot(x='training_steps', y='baseline_loss')"
   ]
  },
  {
   "cell_type": "code",
   "execution_count": 17,
   "metadata": {},
   "outputs": [
    {
     "data": {
      "text/plain": [
       "<matplotlib.axes._subplots.AxesSubplot at 0x7f5f9b0f5090>"
      ]
     },
     "execution_count": 17,
     "metadata": {},
     "output_type": "execute_result"
    },
    {
     "data": {
      "image/png": "[encoded data removed]",
      "text/plain": [
       "<Figure size 432x288 with 1 Axes>"
      ]
     },
     "metadata": {
      "needs_background": "light"
     },
     "output_type": "display_data"
    }
   ],
   "source": [
    "t_df.plot(x='training_steps', y='pg_loss')"
   ]
  },
  {
   "cell_type": "code",
   "execution_count": 18,
   "metadata": {},
   "outputs": [],
   "source": [
    "s_df = pd.read_csv(path + 'system.csv')\n",
    "# s_df = pd.read_csv('pytorch_seed_rl/scaling_experiment/a_01_p_1_n_004/csv/system.csv')"
   ]
  },
  {
   "cell_type": "code",
   "execution_count": 19,
   "metadata": {},
   "outputs": [
    {
     "data": {
      "text/html": [
       "<div>\n",
       "<style scoped>\n",
       "    .dataframe tbody tr th:only-of-type {\n",
       "        vertical-align: middle;\n",
       "    }\n",
       "\n",
       "    .dataframe tbody tr th {\n",
       "        vertical-align: top;\n",
       "    }\n",
       "\n",
       "    .dataframe thead th {\n",
       "        text-align: right;\n",
       "    }\n",
       "</style>\n",
       "<table border=\"1\" class=\"dataframe\">\n",
       "  <thead>\n",
       "    <tr style=\"text-align: right;\">\n",
       "      <th></th>\n",
       "      <th>runtime</th>\n",
       "      <th>trajectories_seen</th>\n",
       "      <th>episodes_seen</th>\n",
       "      <th>mean_inference_latency</th>\n",
       "      <th>fetching_time</th>\n",
       "      <th>inference_time</th>\n",
       "      <th>inference_steps</th>\n",
       "      <th>training_time</th>\n",
       "      <th>training_steps</th>\n",
       "      <th>queue_batches</th>\n",
       "      <th>queue_drops</th>\n",
       "      <th>queue_rpcs</th>\n",
       "      <th>queue_storing</th>\n",
       "    </tr>\n",
       "  </thead>\n",
       "  <tbody>\n",
       "    <tr>\n",
       "      <th>0</th>\n",
       "      <td>14.313138</td>\n",
       "      <td>0</td>\n",
       "      <td>0</td>\n",
       "      <td>0.000000</td>\n",
       "      <td>0.0</td>\n",
       "      <td>0.563433</td>\n",
       "      <td>5440</td>\n",
       "      <td>0.0</td>\n",
       "      <td>0</td>\n",
       "      <td>0</td>\n",
       "      <td>0</td>\n",
       "      <td>0</td>\n",
       "      <td>1024</td>\n",
       "    </tr>\n",
       "    <tr>\n",
       "      <th>1</th>\n",
       "      <td>16.379754</td>\n",
       "      <td>139</td>\n",
       "      <td>0</td>\n",
       "      <td>0.000000</td>\n",
       "      <td>0.0</td>\n",
       "      <td>0.600129</td>\n",
       "      <td>6144</td>\n",
       "      <td>0.0</td>\n",
       "      <td>640</td>\n",
       "      <td>3</td>\n",
       "      <td>0</td>\n",
       "      <td>128</td>\n",
       "      <td>1024</td>\n",
       "    </tr>\n",
       "    <tr>\n",
       "      <th>2</th>\n",
       "      <td>16.409294</td>\n",
       "      <td>143</td>\n",
       "      <td>0</td>\n",
       "      <td>0.000000</td>\n",
       "      <td>0.0</td>\n",
       "      <td>0.600129</td>\n",
       "      <td>6144</td>\n",
       "      <td>0.0</td>\n",
       "      <td>1280</td>\n",
       "      <td>2</td>\n",
       "      <td>0</td>\n",
       "      <td>128</td>\n",
       "      <td>1024</td>\n",
       "    </tr>\n",
       "    <tr>\n",
       "      <th>3</th>\n",
       "      <td>16.438327</td>\n",
       "      <td>147</td>\n",
       "      <td>0</td>\n",
       "      <td>0.000000</td>\n",
       "      <td>0.0</td>\n",
       "      <td>0.600129</td>\n",
       "      <td>6144</td>\n",
       "      <td>0.0</td>\n",
       "      <td>1920</td>\n",
       "      <td>1</td>\n",
       "      <td>0</td>\n",
       "      <td>128</td>\n",
       "      <td>1024</td>\n",
       "    </tr>\n",
       "    <tr>\n",
       "      <th>4</th>\n",
       "      <td>16.469288</td>\n",
       "      <td>151</td>\n",
       "      <td>0</td>\n",
       "      <td>0.000000</td>\n",
       "      <td>0.0</td>\n",
       "      <td>0.600129</td>\n",
       "      <td>6144</td>\n",
       "      <td>0.0</td>\n",
       "      <td>2560</td>\n",
       "      <td>0</td>\n",
       "      <td>0</td>\n",
       "      <td>128</td>\n",
       "      <td>1024</td>\n",
       "    </tr>\n",
       "    <tr>\n",
       "      <th>...</th>\n",
       "      <td>...</td>\n",
       "      <td>...</td>\n",
       "      <td>...</td>\n",
       "      <td>...</td>\n",
       "      <td>...</td>\n",
       "      <td>...</td>\n",
       "      <td>...</td>\n",
       "      <td>...</td>\n",
       "      <td>...</td>\n",
       "      <td>...</td>\n",
       "      <td>...</td>\n",
       "      <td>...</td>\n",
       "      <td>...</td>\n",
       "    </tr>\n",
       "    <tr>\n",
       "      <th>78155</th>\n",
       "      <td>56629.884707</td>\n",
       "      <td>2499878</td>\n",
       "      <td>480401</td>\n",
       "      <td>0.007997</td>\n",
       "      <td>0.0</td>\n",
       "      <td>56.939689</td>\n",
       "      <td>50003456</td>\n",
       "      <td>0.0</td>\n",
       "      <td>49997440</td>\n",
       "      <td>0</td>\n",
       "      <td>0</td>\n",
       "      <td>128</td>\n",
       "      <td>1024</td>\n",
       "    </tr>\n",
       "    <tr>\n",
       "      <th>78156</th>\n",
       "      <td>56630.023215</td>\n",
       "      <td>2499904</td>\n",
       "      <td>480405</td>\n",
       "      <td>0.007999</td>\n",
       "      <td>0.0</td>\n",
       "      <td>56.942648</td>\n",
       "      <td>50003584</td>\n",
       "      <td>0.0</td>\n",
       "      <td>49998080</td>\n",
       "      <td>0</td>\n",
       "      <td>0</td>\n",
       "      <td>0</td>\n",
       "      <td>1024</td>\n",
       "    </tr>\n",
       "    <tr>\n",
       "      <th>78157</th>\n",
       "      <td>56632.231461</td>\n",
       "      <td>2499942</td>\n",
       "      <td>480410</td>\n",
       "      <td>0.008002</td>\n",
       "      <td>0.0</td>\n",
       "      <td>56.983623</td>\n",
       "      <td>50005632</td>\n",
       "      <td>0.0</td>\n",
       "      <td>49998720</td>\n",
       "      <td>0</td>\n",
       "      <td>0</td>\n",
       "      <td>128</td>\n",
       "      <td>1024</td>\n",
       "    </tr>\n",
       "    <tr>\n",
       "      <th>78158</th>\n",
       "      <td>56632.362019</td>\n",
       "      <td>2499968</td>\n",
       "      <td>480415</td>\n",
       "      <td>0.008005</td>\n",
       "      <td>0.0</td>\n",
       "      <td>56.989445</td>\n",
       "      <td>50005760</td>\n",
       "      <td>0.0</td>\n",
       "      <td>49999360</td>\n",
       "      <td>0</td>\n",
       "      <td>0</td>\n",
       "      <td>0</td>\n",
       "      <td>1024</td>\n",
       "    </tr>\n",
       "    <tr>\n",
       "      <th>78159</th>\n",
       "      <td>56633.292657</td>\n",
       "      <td>2500004</td>\n",
       "      <td>480423</td>\n",
       "      <td>0.008010</td>\n",
       "      <td>0.0</td>\n",
       "      <td>57.007980</td>\n",
       "      <td>50006592</td>\n",
       "      <td>0.0</td>\n",
       "      <td>50000000</td>\n",
       "      <td>0</td>\n",
       "      <td>0</td>\n",
       "      <td>64</td>\n",
       "      <td>1024</td>\n",
       "    </tr>\n",
       "  </tbody>\n",
       "</table>\n",
       "<p>78160 rows × 13 columns</p>\n",
       "</div>"
      ],
      "text/plain": [
       "            runtime  trajectories_seen  episodes_seen  mean_inference_latency  \\\n",
       "0         14.313138                  0              0                0.000000   \n",
       "1         16.379754                139              0                0.000000   \n",
       "2         16.409294                143              0                0.000000   \n",
       "3         16.438327                147              0                0.000000   \n",
       "4         16.469288                151              0                0.000000   \n",
       "...             ...                ...            ...                     ...   \n",
       "78155  56629.884707            2499878         480401                0.007997   \n",
       "78156  56630.023215            2499904         480405                0.007999   \n",
       "78157  56632.231461            2499942         480410                0.008002   \n",
       "78158  56632.362019            2499968         480415                0.008005   \n",
       "78159  56633.292657            2500004         480423                0.008010   \n",
       "\n",
       "       fetching_time  inference_time  inference_steps  training_time  \\\n",
       "0                0.0        0.563433             5440            0.0   \n",
       "1                0.0        0.600129             6144            0.0   \n",
       "2                0.0        0.600129             6144            0.0   \n",
       "3                0.0        0.600129             6144            0.0   \n",
       "4                0.0        0.600129             6144            0.0   \n",
       "...              ...             ...              ...            ...   \n",
       "78155            0.0       56.939689         50003456            0.0   \n",
       "78156            0.0       56.942648         50003584            0.0   \n",
       "78157            0.0       56.983623         50005632            0.0   \n",
       "78158            0.0       56.989445         50005760            0.0   \n",
       "78159            0.0       57.007980         50006592            0.0   \n",
       "\n",
       "       training_steps  queue_batches  queue_drops  queue_rpcs  queue_storing  \n",
       "0                   0              0            0           0           1024  \n",
       "1                 640              3            0         128           1024  \n",
       "2                1280              2            0         128           1024  \n",
       "3                1920              1            0         128           1024  \n",
       "4                2560              0            0         128           1024  \n",
       "...               ...            ...          ...         ...            ...  \n",
       "78155        49997440              0            0         128           1024  \n",
       "78156        49998080              0            0           0           1024  \n",
       "78157        49998720              0            0         128           1024  \n",
       "78158        49999360              0            0           0           1024  \n",
       "78159        50000000              0            0          64           1024  \n",
       "\n",
       "[78160 rows x 13 columns]"
      ]
     },
     "execution_count": 19,
     "metadata": {},
     "output_type": "execute_result"
    }
   ],
   "source": [
    "s_df"
   ]
  },
  {
   "cell_type": "code",
   "execution_count": 20,
   "metadata": {},
   "outputs": [],
   "source": [
    "s_df['t_fps'] = s_df['training_steps']/s_df['runtime']\n",
    "s_df['i_fps'] = s_df['inference_steps']/s_df['runtime']"
   ]
  },
  {
   "cell_type": "code",
   "execution_count": 21,
   "metadata": {},
   "outputs": [
    {
     "data": {
      "text/plain": [
       "(882.9893098915325, 882.872911926824)"
      ]
     },
     "execution_count": 21,
     "metadata": {},
     "output_type": "execute_result"
    }
   ],
   "source": [
    "s_df.iloc[-1]['i_fps'], s_df.iloc[-1]['t_fps']"
   ]
  },
  {
   "cell_type": "code",
   "execution_count": 22,
   "metadata": {},
   "outputs": [
    {
     "data": {
      "text/plain": [
       "<matplotlib.axes._subplots.AxesSubplot at 0x7f5f9b02f3d0>"
      ]
     },
     "execution_count": 22,
     "metadata": {},
     "output_type": "execute_result"
    },
    {
     "data": {
      "image/png": "[encoded data removed]",
      "text/plain": [
       "<Figure size 432x288 with 1 Axes>"
      ]
     },
     "metadata": {
      "needs_background": "light"
     },
     "output_type": "display_data"
    }
   ],
   "source": [
    "s_df[:1000].plot(x='runtime', y=['queue_storing', 'queue_rpcs', 'queue_drops','queue_batches'])"
   ]
  },
  {
   "cell_type": "code",
   "execution_count": 23,
   "metadata": {},
   "outputs": [
    {
     "data": {
      "text/plain": [
       "<matplotlib.axes._subplots.AxesSubplot at 0x7f5f9af734d0>"
      ]
     },
     "execution_count": 23,
     "metadata": {},
     "output_type": "execute_result"
    },
    {
     "data": {
      "image/png": "[encoded data removed]",
      "text/plain": [
       "<Figure size 432x288 with 1 Axes>"
      ]
     },
     "metadata": {
      "needs_background": "light"
     },
     "output_type": "display_data"
    }
   ],
   "source": [
    "s_df[100:].plot(x='runtime', y=['queue_batches','queue_drops'])"
   ]
  },
  {
   "cell_type": "code",
   "execution_count": 24,
   "metadata": {
    "jupyter": {
     "source_hidden": true
    }
   },
   "outputs": [
    {
     "data": {
      "text/plain": [
       "queue_storing             1023.640000\n",
       "queue_rpcs                  86.949000\n",
       "queue_drops                  0.012000\n",
       "queue_batches                0.000000\n",
       "mean_inference_latency       0.006509\n",
       "dtype: float64"
      ]
     },
     "execution_count": 24,
     "metadata": {},
     "output_type": "execute_result"
    }
   ],
   "source": [
    "s_df[['queue_storing','queue_rpcs', 'queue_drops','queue_batches', 'mean_inference_latency']][-1000:].mean()"
   ]
  },
  {
   "cell_type": "code",
   "execution_count": 25,
   "metadata": {},
   "outputs": [],
   "source": [
    "s_df = s_df.rename(columns={\n",
    "    'runtime': 'Runtime [s]',\n",
    "    'i_fps': 'Inference',\n",
    "    't_fps': 'Training',\n",
    "})"
   ]
  },
  {
   "cell_type": "code",
   "execution_count": 26,
   "metadata": {},
   "outputs": [
    {
     "data": {
      "text/plain": [
       "Text(0, 0.5, 'Frames per second')"
      ]
     },
     "execution_count": 26,
     "metadata": {},
     "output_type": "execute_result"
    },
    {
     "data": {
      "image/png": "[encoded data removed]",
      "text/plain": [
       "<Figure size 576x288 with 1 Axes>"
      ]
     },
     "metadata": {
      "needs_background": "light"
     },
     "output_type": "display_data"
    }
   ],
   "source": [
    "plt.rcParams.update({'font.size': 12,\n",
    "                     'font.family': \"serif\"})\n",
    "s_df.plot(x='Runtime [s]', y=['Inference', 'Training'], figsize=(8,4))\n",
    "plt.legend(title='Thread')\n",
    "plt.ylabel('Frames per second')\n",
    "# plt.savefig('threads.pdf')"
   ]
  },
  {
   "cell_type": "code",
   "execution_count": 27,
   "metadata": {},
   "outputs": [],
   "source": [
    "eps_df = eps_df.rename(columns={\n",
    "    'training_steps': 'Training steps',\n",
    "    'return': 'Return',\n",
    "})"
   ]
  },
  {
   "cell_type": "code",
   "execution_count": 32,
   "metadata": {},
   "outputs": [
    {
     "data": {
      "image/png": "[encoded data removed]",
      "text/plain": [
       "<Figure size 576x288 with 1 Axes>"
      ]
     },
     "metadata": {
      "needs_background": "light"
     },
     "output_type": "display_data"
    }
   ],
   "source": [
    "eps_df.plot(x='Training steps', y='Return', legend=False, figsize=(8,4))\n",
    "plt.ylabel('Return')\n",
    "#plt.savefig('learning.pdf')"
   ]
  },
  {
   "cell_type": "code",
   "execution_count": null,
   "metadata": {},
   "outputs": [],
   "source": []
  }
 ],
 "metadata": {
  "kernelspec": {
   "display_name": "Python 3",
   "language": "python",
   "name": "python3"
  },
  "language_info": {
   "codemirror_mode": {
    "name": "ipython",
    "version": 3
   },
   "file_extension": ".py",
   "mimetype": "text/x-python",
   "name": "python",
   "nbconvert_exporter": "python",
   "pygments_lexer": "ipython3",
   "version": "3.7.6"
  }
 },
 "nbformat": 4,
 "nbformat_minor": 4
}
