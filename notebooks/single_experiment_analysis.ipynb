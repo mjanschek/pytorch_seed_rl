{
 "cells": [
  {
   "cell_type": "code",
   "execution_count": 47,
   "metadata": {},
   "outputs": [],
   "source": [
    "import pandas as pd\n",
    "from matplotlib import pyplot as plt"
   ]
  },
  {
   "cell_type": "code",
   "execution_count": 48,
   "metadata": {},
   "outputs": [
    {
     "name": "stdout",
     "output_type": "stream",
     "text": [
      "learning_experiment.ipynb  scaling_data_system2.csv\t     system_info.ipynb\n",
      "run_experiments.ipynb\t   scaling_experiment.ipynb\t     threads.pdf\n",
      "scaling_analysis.ipynb\t   scaling.pdf\n",
      "scaling_data_system1.csv   single_experiment_analysis.ipynb\n"
     ]
    }
   ],
   "source": [
    "!ls"
   ]
  },
  {
   "cell_type": "code",
   "execution_count": 49,
   "metadata": {},
   "outputs": [],
   "source": [
    "path = '/home/garg1/logs/pytorch_seed_rl/learning_experiment_final/csv/'\n",
    "#path = 'pytorch_seed_rl/scaling_experiment/a_01_p_1_n_004/csv/'"
   ]
  },
  {
   "cell_type": "code",
   "execution_count": 50,
   "metadata": {},
   "outputs": [],
   "source": [
    "eps_df = pd.read_csv(path + 'episodes.csv')"
   ]
  },
  {
   "cell_type": "code",
   "execution_count": 51,
   "metadata": {},
   "outputs": [],
   "source": [
    "eps_df = eps_df.sort_values('episode_id')"
   ]
  },
  {
   "cell_type": "code",
   "execution_count": 52,
   "metadata": {},
   "outputs": [],
   "source": [
    "# eps_df = eps_df[eps_df['episode_id']< 75000]"
   ]
  },
  {
   "cell_type": "code",
   "execution_count": 53,
   "metadata": {},
   "outputs": [
    {
     "data": {
      "text/html": [
       "<div>\n",
       "<style scoped>\n",
       "    .dataframe tbody tr th:only-of-type {\n",
       "        vertical-align: middle;\n",
       "    }\n",
       "\n",
       "    .dataframe tbody tr th {\n",
       "        vertical-align: top;\n",
       "    }\n",
       "\n",
       "    .dataframe thead th {\n",
       "        text-align: right;\n",
       "    }\n",
       "</style>\n",
       "<table border=\"1\" class=\"dataframe\">\n",
       "  <thead>\n",
       "    <tr style=\"text-align: right;\">\n",
       "      <th></th>\n",
       "      <th>episode_id</th>\n",
       "      <th>return</th>\n",
       "      <th>length</th>\n",
       "      <th>training_steps</th>\n",
       "    </tr>\n",
       "  </thead>\n",
       "  <tbody>\n",
       "    <tr>\n",
       "      <th>187</th>\n",
       "      <td>251.0</td>\n",
       "      <td>0.0</td>\n",
       "      <td>22</td>\n",
       "      <td>0.0</td>\n",
       "    </tr>\n",
       "    <tr>\n",
       "      <th>188</th>\n",
       "      <td>252.0</td>\n",
       "      <td>0.0</td>\n",
       "      <td>22</td>\n",
       "      <td>0.0</td>\n",
       "    </tr>\n",
       "    <tr>\n",
       "      <th>189</th>\n",
       "      <td>253.0</td>\n",
       "      <td>0.0</td>\n",
       "      <td>22</td>\n",
       "      <td>0.0</td>\n",
       "    </tr>\n",
       "    <tr>\n",
       "      <th>190</th>\n",
       "      <td>254.0</td>\n",
       "      <td>0.0</td>\n",
       "      <td>22</td>\n",
       "      <td>0.0</td>\n",
       "    </tr>\n",
       "    <tr>\n",
       "      <th>191</th>\n",
       "      <td>255.0</td>\n",
       "      <td>0.0</td>\n",
       "      <td>22</td>\n",
       "      <td>0.0</td>\n",
       "    </tr>\n",
       "  </tbody>\n",
       "</table>\n",
       "</div>"
      ],
      "text/plain": [
       "     episode_id  return  length  training_steps\n",
       "187       251.0     0.0      22             0.0\n",
       "188       252.0     0.0      22             0.0\n",
       "189       253.0     0.0      22             0.0\n",
       "190       254.0     0.0      22             0.0\n",
       "191       255.0     0.0      22             0.0"
      ]
     },
     "execution_count": 53,
     "metadata": {},
     "output_type": "execute_result"
    }
   ],
   "source": [
    "eps_df.tail()"
   ]
  },
  {
   "cell_type": "code",
   "execution_count": 54,
   "metadata": {},
   "outputs": [],
   "source": [
    "eps_df['count'] = eps_df.groupby(['training_steps'])['episode_id'].agg('count')"
   ]
  },
  {
   "cell_type": "code",
   "execution_count": 55,
   "metadata": {},
   "outputs": [
    {
     "data": {
      "text/plain": [
       "<matplotlib.axes._subplots.AxesSubplot at 0x7f1b94b1a110>"
      ]
     },
     "execution_count": 55,
     "metadata": {},
     "output_type": "execute_result"
    },
    {
     "data": {
      "image/png": "[encoded data removed]",
      "text/plain": [
       "<Figure size 432x288 with 1 Axes>"
      ]
     },
     "metadata": {
      "needs_background": "light"
     },
     "output_type": "display_data"
    }
   ],
   "source": [
    "eps_df.plot(x='episode_id', y='return')"
   ]
  },
  {
   "cell_type": "markdown",
   "metadata": {},
   "source": [
    "eps_df.plot(x='episode_id', y='length')"
   ]
  },
  {
   "cell_type": "code",
   "execution_count": 56,
   "metadata": {},
   "outputs": [],
   "source": [
    "t_df = pd.read_csv(path + 'training.csv')"
   ]
  },
  {
   "cell_type": "code",
   "execution_count": 57,
   "metadata": {},
   "outputs": [],
   "source": [
    "# t_df = t_df[t_df['training_steps'] < 5565760]"
   ]
  },
  {
   "cell_type": "code",
   "execution_count": 58,
   "metadata": {},
   "outputs": [
    {
     "data": {
      "text/plain": [
       "<matplotlib.axes._subplots.AxesSubplot at 0x7f1b94a6d690>"
      ]
     },
     "execution_count": 58,
     "metadata": {},
     "output_type": "execute_result"
    },
    {
     "data": {
      "image/png": "[encoded data removed]",
      "text/plain": [
       "<Figure size 432x288 with 1 Axes>"
      ]
     },
     "metadata": {
      "needs_background": "light"
     },
     "output_type": "display_data"
    }
   ],
   "source": [
    "t_df.plot(x='training_steps', y='total_loss')"
   ]
  },
  {
   "cell_type": "code",
   "execution_count": 59,
   "metadata": {},
   "outputs": [
    {
     "data": {
      "text/plain": [
       "<matplotlib.axes._subplots.AxesSubplot at 0x7f1b94a602d0>"
      ]
     },
     "execution_count": 59,
     "metadata": {},
     "output_type": "execute_result"
    },
    {
     "data": {
      "image/png": "[encoded data removed]",
      "text/plain": [
       "<Figure size 432x288 with 1 Axes>"
      ]
     },
     "metadata": {
      "needs_background": "light"
     },
     "output_type": "display_data"
    }
   ],
   "source": [
    "t_df.plot(x='training_steps', y='entropy_loss')"
   ]
  },
  {
   "cell_type": "code",
   "execution_count": 60,
   "metadata": {},
   "outputs": [
    {
     "data": {
      "text/plain": [
       "<matplotlib.axes._subplots.AxesSubplot at 0x7f1b949cf090>"
      ]
     },
     "execution_count": 60,
     "metadata": {},
     "output_type": "execute_result"
    },
    {
     "data": {
      "image/png": "[encoded data removed]",
      "text/plain": [
       "<Figure size 432x288 with 1 Axes>"
      ]
     },
     "metadata": {
      "needs_background": "light"
     },
     "output_type": "display_data"
    }
   ],
   "source": [
    "t_df.plot(x='training_steps', y='baseline_loss')"
   ]
  },
  {
   "cell_type": "code",
   "execution_count": 61,
   "metadata": {},
   "outputs": [
    {
     "data": {
      "text/plain": [
       "<matplotlib.axes._subplots.AxesSubplot at 0x7f1b94941250>"
      ]
     },
     "execution_count": 61,
     "metadata": {},
     "output_type": "execute_result"
    },
    {
     "data": {
      "image/png": "[encoded data removed]",
      "text/plain": [
       "<Figure size 432x288 with 1 Axes>"
      ]
     },
     "metadata": {
      "needs_background": "light"
     },
     "output_type": "display_data"
    }
   ],
   "source": [
    "t_df.plot(x='training_steps', y='pg_loss', ylim=[-50, 50])"
   ]
  },
  {
   "cell_type": "code",
   "execution_count": 62,
   "metadata": {},
   "outputs": [],
   "source": [
    "s_df = pd.read_csv(path + 'system.csv')\n",
    "# s_df = pd.read_csv('pytorch_seed_rl/scaling_experiment/a_01_p_1_n_004/csv/system.csv')"
   ]
  },
  {
   "cell_type": "code",
   "execution_count": 63,
   "metadata": {},
   "outputs": [
    {
     "data": {
      "text/html": [
       "<div>\n",
       "<style scoped>\n",
       "    .dataframe tbody tr th:only-of-type {\n",
       "        vertical-align: middle;\n",
       "    }\n",
       "\n",
       "    .dataframe tbody tr th {\n",
       "        vertical-align: top;\n",
       "    }\n",
       "\n",
       "    .dataframe thead th {\n",
       "        text-align: right;\n",
       "    }\n",
       "</style>\n",
       "<table border=\"1\" class=\"dataframe\">\n",
       "  <thead>\n",
       "    <tr style=\"text-align: right;\">\n",
       "      <th></th>\n",
       "      <th>runtime</th>\n",
       "      <th>trajectories_seen</th>\n",
       "      <th>episodes_seen</th>\n",
       "      <th>mean_inference_latency</th>\n",
       "      <th>fetching_time</th>\n",
       "      <th>inference_time</th>\n",
       "      <th>inference_steps</th>\n",
       "      <th>training_time</th>\n",
       "      <th>training_steps</th>\n",
       "      <th>queue_batches</th>\n",
       "      <th>queue_drops</th>\n",
       "      <th>queue_rpcs</th>\n",
       "      <th>queue_storing</th>\n",
       "    </tr>\n",
       "  </thead>\n",
       "  <tbody>\n",
       "    <tr>\n",
       "      <th>0</th>\n",
       "      <td>14.334027</td>\n",
       "      <td>0</td>\n",
       "      <td>0</td>\n",
       "      <td>0.000000</td>\n",
       "      <td>0.0</td>\n",
       "      <td>0.398322</td>\n",
       "      <td>5312</td>\n",
       "      <td>0.0</td>\n",
       "      <td>0</td>\n",
       "      <td>0</td>\n",
       "      <td>0</td>\n",
       "      <td>93</td>\n",
       "      <td>1024</td>\n",
       "    </tr>\n",
       "    <tr>\n",
       "      <th>1</th>\n",
       "      <td>16.537098</td>\n",
       "      <td>142</td>\n",
       "      <td>0</td>\n",
       "      <td>0.000000</td>\n",
       "      <td>0.0</td>\n",
       "      <td>0.411081</td>\n",
       "      <td>6080</td>\n",
       "      <td>0.0</td>\n",
       "      <td>640</td>\n",
       "      <td>3</td>\n",
       "      <td>0</td>\n",
       "      <td>128</td>\n",
       "      <td>1024</td>\n",
       "    </tr>\n",
       "    <tr>\n",
       "      <th>2</th>\n",
       "      <td>16.570909</td>\n",
       "      <td>147</td>\n",
       "      <td>0</td>\n",
       "      <td>0.000000</td>\n",
       "      <td>0.0</td>\n",
       "      <td>0.411081</td>\n",
       "      <td>6080</td>\n",
       "      <td>0.0</td>\n",
       "      <td>1280</td>\n",
       "      <td>2</td>\n",
       "      <td>0</td>\n",
       "      <td>128</td>\n",
       "      <td>1024</td>\n",
       "    </tr>\n",
       "    <tr>\n",
       "      <th>3</th>\n",
       "      <td>16.601412</td>\n",
       "      <td>151</td>\n",
       "      <td>0</td>\n",
       "      <td>0.000000</td>\n",
       "      <td>0.0</td>\n",
       "      <td>0.411081</td>\n",
       "      <td>6080</td>\n",
       "      <td>0.0</td>\n",
       "      <td>1920</td>\n",
       "      <td>1</td>\n",
       "      <td>0</td>\n",
       "      <td>128</td>\n",
       "      <td>1024</td>\n",
       "    </tr>\n",
       "    <tr>\n",
       "      <th>4</th>\n",
       "      <td>16.632440</td>\n",
       "      <td>155</td>\n",
       "      <td>0</td>\n",
       "      <td>0.000000</td>\n",
       "      <td>0.0</td>\n",
       "      <td>0.411081</td>\n",
       "      <td>6080</td>\n",
       "      <td>0.0</td>\n",
       "      <td>2560</td>\n",
       "      <td>0</td>\n",
       "      <td>0</td>\n",
       "      <td>128</td>\n",
       "      <td>1024</td>\n",
       "    </tr>\n",
       "    <tr>\n",
       "      <th>...</th>\n",
       "      <td>...</td>\n",
       "      <td>...</td>\n",
       "      <td>...</td>\n",
       "      <td>...</td>\n",
       "      <td>...</td>\n",
       "      <td>...</td>\n",
       "      <td>...</td>\n",
       "      <td>...</td>\n",
       "      <td>...</td>\n",
       "      <td>...</td>\n",
       "      <td>...</td>\n",
       "      <td>...</td>\n",
       "      <td>...</td>\n",
       "    </tr>\n",
       "    <tr>\n",
       "      <th>95</th>\n",
       "      <td>83.541167</td>\n",
       "      <td>2944</td>\n",
       "      <td>256</td>\n",
       "      <td>0.246682</td>\n",
       "      <td>0.0</td>\n",
       "      <td>2.029461</td>\n",
       "      <td>62336</td>\n",
       "      <td>0.0</td>\n",
       "      <td>58880</td>\n",
       "      <td>0</td>\n",
       "      <td>0</td>\n",
       "      <td>128</td>\n",
       "      <td>1024</td>\n",
       "    </tr>\n",
       "    <tr>\n",
       "      <th>96</th>\n",
       "      <td>83.753533</td>\n",
       "      <td>2982</td>\n",
       "      <td>256</td>\n",
       "      <td>0.246682</td>\n",
       "      <td>0.0</td>\n",
       "      <td>2.031291</td>\n",
       "      <td>62464</td>\n",
       "      <td>0.0</td>\n",
       "      <td>59520</td>\n",
       "      <td>0</td>\n",
       "      <td>0</td>\n",
       "      <td>128</td>\n",
       "      <td>1024</td>\n",
       "    </tr>\n",
       "    <tr>\n",
       "      <th>97</th>\n",
       "      <td>83.875195</td>\n",
       "      <td>3008</td>\n",
       "      <td>256</td>\n",
       "      <td>0.246682</td>\n",
       "      <td>0.0</td>\n",
       "      <td>2.031291</td>\n",
       "      <td>62464</td>\n",
       "      <td>0.0</td>\n",
       "      <td>60160</td>\n",
       "      <td>0</td>\n",
       "      <td>0</td>\n",
       "      <td>128</td>\n",
       "      <td>1022</td>\n",
       "    </tr>\n",
       "    <tr>\n",
       "      <th>98</th>\n",
       "      <td>84.111955</td>\n",
       "      <td>3045</td>\n",
       "      <td>256</td>\n",
       "      <td>0.246682</td>\n",
       "      <td>0.0</td>\n",
       "      <td>2.034320</td>\n",
       "      <td>62592</td>\n",
       "      <td>0.0</td>\n",
       "      <td>60800</td>\n",
       "      <td>0</td>\n",
       "      <td>0</td>\n",
       "      <td>128</td>\n",
       "      <td>1024</td>\n",
       "    </tr>\n",
       "    <tr>\n",
       "      <th>99</th>\n",
       "      <td>84.257053</td>\n",
       "      <td>3072</td>\n",
       "      <td>256</td>\n",
       "      <td>0.246682</td>\n",
       "      <td>0.0</td>\n",
       "      <td>2.036576</td>\n",
       "      <td>62720</td>\n",
       "      <td>0.0</td>\n",
       "      <td>61440</td>\n",
       "      <td>0</td>\n",
       "      <td>0</td>\n",
       "      <td>0</td>\n",
       "      <td>1024</td>\n",
       "    </tr>\n",
       "  </tbody>\n",
       "</table>\n",
       "<p>100 rows × 13 columns</p>\n",
       "</div>"
      ],
      "text/plain": [
       "      runtime  trajectories_seen  episodes_seen  mean_inference_latency  \\\n",
       "0   14.334027                  0              0                0.000000   \n",
       "1   16.537098                142              0                0.000000   \n",
       "2   16.570909                147              0                0.000000   \n",
       "3   16.601412                151              0                0.000000   \n",
       "4   16.632440                155              0                0.000000   \n",
       "..        ...                ...            ...                     ...   \n",
       "95  83.541167               2944            256                0.246682   \n",
       "96  83.753533               2982            256                0.246682   \n",
       "97  83.875195               3008            256                0.246682   \n",
       "98  84.111955               3045            256                0.246682   \n",
       "99  84.257053               3072            256                0.246682   \n",
       "\n",
       "    fetching_time  inference_time  inference_steps  training_time  \\\n",
       "0             0.0        0.398322             5312            0.0   \n",
       "1             0.0        0.411081             6080            0.0   \n",
       "2             0.0        0.411081             6080            0.0   \n",
       "3             0.0        0.411081             6080            0.0   \n",
       "4             0.0        0.411081             6080            0.0   \n",
       "..            ...             ...              ...            ...   \n",
       "95            0.0        2.029461            62336            0.0   \n",
       "96            0.0        2.031291            62464            0.0   \n",
       "97            0.0        2.031291            62464            0.0   \n",
       "98            0.0        2.034320            62592            0.0   \n",
       "99            0.0        2.036576            62720            0.0   \n",
       "\n",
       "    training_steps  queue_batches  queue_drops  queue_rpcs  queue_storing  \n",
       "0                0              0            0          93           1024  \n",
       "1              640              3            0         128           1024  \n",
       "2             1280              2            0         128           1024  \n",
       "3             1920              1            0         128           1024  \n",
       "4             2560              0            0         128           1024  \n",
       "..             ...            ...          ...         ...            ...  \n",
       "95           58880              0            0         128           1024  \n",
       "96           59520              0            0         128           1024  \n",
       "97           60160              0            0         128           1022  \n",
       "98           60800              0            0         128           1024  \n",
       "99           61440              0            0           0           1024  \n",
       "\n",
       "[100 rows x 13 columns]"
      ]
     },
     "execution_count": 63,
     "metadata": {},
     "output_type": "execute_result"
    }
   ],
   "source": [
    "s_df"
   ]
  },
  {
   "cell_type": "code",
   "execution_count": 64,
   "metadata": {},
   "outputs": [],
   "source": [
    "s_df['t_fps'] = s_df['training_steps']/s_df['runtime']\n",
    "s_df['i_fps'] = s_df['inference_steps']/s_df['runtime']"
   ]
  },
  {
   "cell_type": "code",
   "execution_count": 65,
   "metadata": {},
   "outputs": [
    {
     "data": {
      "text/plain": [
       "(744.388720765591, 729.1971142193544)"
      ]
     },
     "execution_count": 65,
     "metadata": {},
     "output_type": "execute_result"
    }
   ],
   "source": [
    "s_df.iloc[-1]['i_fps'], s_df.iloc[-1]['t_fps']"
   ]
  },
  {
   "cell_type": "code",
   "execution_count": 66,
   "metadata": {},
   "outputs": [
    {
     "data": {
      "text/plain": [
       "<matplotlib.axes._subplots.AxesSubplot at 0x7f1b948adbd0>"
      ]
     },
     "execution_count": 66,
     "metadata": {},
     "output_type": "execute_result"
    },
    {
     "data": {
      "image/png": "[encoded data removed]",
      "text/plain": [
       "<Figure size 432x288 with 1 Axes>"
      ]
     },
     "metadata": {
      "needs_background": "light"
     },
     "output_type": "display_data"
    }
   ],
   "source": [
    "s_df[:1000].plot(x='runtime', y=['queue_storing', 'queue_rpcs', 'queue_drops','queue_batches'])"
   ]
  },
  {
   "cell_type": "code",
   "execution_count": 67,
   "metadata": {},
   "outputs": [
    {
     "data": {
      "text/plain": [
       "queue_storing             1023.510000\n",
       "queue_rpcs                  86.310000\n",
       "queue_drops                  0.010000\n",
       "queue_batches                0.060000\n",
       "mean_inference_latency       0.223483\n",
       "dtype: float64"
      ]
     },
     "execution_count": 67,
     "metadata": {},
     "output_type": "execute_result"
    }
   ],
   "source": [
    "s_df[['queue_storing','queue_rpcs', 'queue_drops','queue_batches', 'mean_inference_latency']][-1000:].mean()"
   ]
  },
  {
   "cell_type": "code",
   "execution_count": 68,
   "metadata": {},
   "outputs": [],
   "source": [
    "s_df = s_df.rename(columns={\n",
    "    'runtime': 'Runtime [s]',\n",
    "    'i_fps': 'Inference',\n",
    "    't_fps': 'Training',\n",
    "})"
   ]
  },
  {
   "cell_type": "code",
   "execution_count": 69,
   "metadata": {},
   "outputs": [
    {
     "data": {
      "text/plain": [
       "Text(0, 0.5, 'Frames per second')"
      ]
     },
     "execution_count": 69,
     "metadata": {},
     "output_type": "execute_result"
    },
    {
     "data": {
      "image/png": "[encoded data removed]",
      "text/plain": [
       "<Figure size 576x288 with 1 Axes>"
      ]
     },
     "metadata": {
      "needs_background": "light"
     },
     "output_type": "display_data"
    }
   ],
   "source": [
    "plt.rcParams.update({'font.size': 12,\n",
    "                     'font.family': \"serif\"})\n",
    "s_df.plot(x='Runtime [s]', y=['Inference', 'Training'], figsize=(8,4))\n",
    "plt.legend(title='Thread')\n",
    "plt.ylabel('Frames per second')\n",
    "# plt.savefig('threads.pdf')"
   ]
  },
  {
   "cell_type": "code",
   "execution_count": null,
   "metadata": {},
   "outputs": [],
   "source": []
  }
 ],
 "metadata": {
  "kernelspec": {
   "display_name": "Python 3",
   "language": "python",
   "name": "python3"
  },
  "language_info": {
   "codemirror_mode": {
    "name": "ipython",
    "version": 3
   },
   "file_extension": ".py",
   "mimetype": "text/x-python",
   "name": "python",
   "nbconvert_exporter": "python",
   "pygments_lexer": "ipython3",
   "version": "3.7.6"
  }
 },
 "nbformat": 4,
 "nbformat_minor": 4
}
