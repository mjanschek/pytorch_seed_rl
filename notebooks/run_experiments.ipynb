{
 "cells": [
  {
   "cell_type": "code",
   "execution_count": null,
   "metadata": {},
   "outputs": [],
   "source": [
    "import os\n",
    "\n",
    "# Change the Current working Directory\n",
    "os.chdir('..')\n",
    "os.getcwd()"
   ]
  },
  {
   "cell_type": "code",
   "execution_count": null,
   "metadata": {},
   "outputs": [],
   "source": [
    "all_args = {\n",
    "    '--num_actors': [1,2,4,8,16],\n",
    "    '--num_prefetchers': [1,2,4,8],\n",
    "    '--num_env': [4,8,16,32,64,128],\n",
    "    '--batchsize_inference': [4,8,16,32,64,128,256,512,1024]\n",
    "}"
   ]
  },
  {
   "cell_type": "code",
   "execution_count": null,
   "metadata": {},
   "outputs": [],
   "source": [
    "import itertools\n",
    "keys, values = zip(*all_args.items())\n",
    "experiments = [dict(zip(keys, v)) for v in itertools.product(*values)]\n",
    "\n",
    "cleaned_experiments=[]\n",
    "for e in experiments:\n",
    "    if (e['--batchsize_inference'] <= (e['--num_actors'] * e['--num_env'])/2) and (e['--num_prefetchers'] <= e['--num_actors']):        \n",
    "            cleaned_experiments.append(e)\n",
    "\n",
    "len(cleaned_experiments)"
   ]
  },
  {
   "cell_type": "code",
   "execution_count": null,
   "metadata": {},
   "outputs": [],
   "source": [
    "experiment_strings = []\n",
    "for e in cleaned_experiments:\n",
    "    exp_input = ' '.join([str(k + ' ' + str(v)) for k,v in e.items()])\n",
    "    exp_name = \"_\".join(['a', str(e['--num_actors']).zfill(2),\n",
    "     'p', str(e['--num_prefetchers']).zfill(1),\n",
    "     'n', str(e['--num_env']).zfill(3),\n",
    "     'b', str(e['--batchsize_inference']).zfill(3)])\n",
    "    \n",
    "    input_str = ' '.join([exp_name] + [str(k + ' ' + str(v)) for k,v in e.items()])\n",
    "    experiment_strings.append(input_str)"
   ]
  },
  {
   "cell_type": "code",
   "execution_count": null,
   "metadata": {},
   "outputs": [],
   "source": [
    "for e_str in experiment_strings:\n",
    "    !python3 -m pytorch_seed_rl.run $e_str --gpu_ids 0 --total_steps 100 --batchsize_training 4 "
   ]
  },
  {
   "cell_type": "code",
   "execution_count": null,
   "metadata": {},
   "outputs": [],
   "source": []
  }
 ],
 "metadata": {
  "kernelspec": {
   "display_name": "Python 3",
   "language": "python",
   "name": "python3"
  },
  "language_info": {
   "codemirror_mode": {
    "name": "ipython",
    "version": 3
   },
   "file_extension": ".py",
   "mimetype": "text/x-python",
   "name": "python",
   "nbconvert_exporter": "python",
   "pygments_lexer": "ipython3",
   "version": "3.7.3"
  }
 },
 "nbformat": 4,
 "nbformat_minor": 4
}
