{
 "cells": [
  {
   "cell_type": "code",
   "execution_count": 1,
   "metadata": {},
   "outputs": [
    {
     "output_type": "execute_result",
     "data": {
      "text/plain": [
       "'/home/garg1/workspace/python/pytorch_seed_rl'"
      ]
     },
     "metadata": {},
     "execution_count": 1
    }
   ],
   "source": [
    "import os\n",
    "\n",
    "# Change the Current working Directory\n",
    "os.chdir('..')\n",
    "os.getcwd()"
   ]
  },
  {
   "cell_type": "code",
   "execution_count": 13,
   "metadata": {},
   "outputs": [],
   "source": [
    "all_args = {\n",
    "    '--actors': [1,2,3,4,8,16],\n",
    "    '--num_env': [1,2,4,8,16,32,64,128],\n",
    "    '--batchsize_inference': [1,2,4,8,16,32,64,128]\n",
    "}"
   ]
  },
  {
   "cell_type": "code",
   "execution_count": 26,
   "metadata": {},
   "outputs": [
    {
     "output_type": "execute_result",
     "data": {
      "text/plain": [
       "283"
      ]
     },
     "metadata": {},
     "execution_count": 26
    }
   ],
   "source": [
    "import itertools\n",
    "keys, values = zip(*all_args.items())\n",
    "experiments = [dict(zip(keys, v)) for v in itertools.product(*values)]\n",
    "\n",
    "cleaned_experiments=[]\n",
    "for e in experiments:\n",
    "    if e['--batchsize_inference'] <= (e['--actors'] * e['--num_env']):\n",
    "        cleaned_experiments.append(e)\n",
    "\n",
    "len(cleaned_experiments)"
   ]
  },
  {
   "cell_type": "code",
   "execution_count": 34,
   "metadata": {},
   "outputs": [
    {
     "output_type": "stream",
     "name": "stdout",
     "text": [
      "a_1_n_ 1_b_1\na_1_n_ 2_b_1\na_1_n_ 2_b_2\na_1_n_ 4_b_1\na_1_n_ 4_b_2\na_1_n_ 4_b_4\na_1_n_ 8_b_1\na_1_n_ 8_b_2\na_1_n_ 8_b_4\na_1_n_ 8_b_8\na_1_n_16_b_1\na_1_n_16_b_2\na_1_n_16_b_4\na_1_n_16_b_8\na_1_n_16_b_16\na_1_n_32_b_1\na_1_n_32_b_2\na_1_n_32_b_4\na_1_n_32_b_8\na_1_n_32_b_16\na_1_n_32_b_32\na_1_n_64_b_1\na_1_n_64_b_2\na_1_n_64_b_4\na_1_n_64_b_8\na_1_n_64_b_16\na_1_n_64_b_32\na_1_n_64_b_64\na_1_n_128_b_1\na_1_n_128_b_2\na_1_n_128_b_4\na_1_n_128_b_8\na_1_n_128_b_16\na_1_n_128_b_32\na_1_n_128_b_64\na_1_n_128_b_128\na_2_n_ 1_b_1\na_2_n_ 1_b_2\na_2_n_ 2_b_1\na_2_n_ 2_b_2\na_2_n_ 2_b_4\na_2_n_ 4_b_1\na_2_n_ 4_b_2\na_2_n_ 4_b_4\na_2_n_ 4_b_8\na_2_n_ 8_b_1\na_2_n_ 8_b_2\na_2_n_ 8_b_4\na_2_n_ 8_b_8\na_2_n_ 8_b_16\na_2_n_16_b_1\na_2_n_16_b_2\na_2_n_16_b_4\na_2_n_16_b_8\na_2_n_16_b_16\na_2_n_16_b_32\na_2_n_32_b_1\na_2_n_32_b_2\na_2_n_32_b_4\na_2_n_32_b_8\na_2_n_32_b_16\na_2_n_32_b_32\na_2_n_32_b_64\na_2_n_64_b_1\na_2_n_64_b_2\na_2_n_64_b_4\na_2_n_64_b_8\na_2_n_64_b_16\na_2_n_64_b_32\na_2_n_64_b_64\na_2_n_64_b_128\na_2_n_128_b_1\na_2_n_128_b_2\na_2_n_128_b_4\na_2_n_128_b_8\na_2_n_128_b_16\na_2_n_128_b_32\na_2_n_128_b_64\na_2_n_128_b_128\na_3_n_ 1_b_1\na_3_n_ 1_b_2\na_3_n_ 2_b_1\na_3_n_ 2_b_2\na_3_n_ 2_b_4\na_3_n_ 4_b_1\na_3_n_ 4_b_2\na_3_n_ 4_b_4\na_3_n_ 4_b_8\na_3_n_ 8_b_1\na_3_n_ 8_b_2\na_3_n_ 8_b_4\na_3_n_ 8_b_8\na_3_n_ 8_b_16\na_3_n_16_b_1\na_3_n_16_b_2\na_3_n_16_b_4\na_3_n_16_b_8\na_3_n_16_b_16\na_3_n_16_b_32\na_3_n_32_b_1\na_3_n_32_b_2\na_3_n_32_b_4\na_3_n_32_b_8\na_3_n_32_b_16\na_3_n_32_b_32\na_3_n_32_b_64\na_3_n_64_b_1\na_3_n_64_b_2\na_3_n_64_b_4\na_3_n_64_b_8\na_3_n_64_b_16\na_3_n_64_b_32\na_3_n_64_b_64\na_3_n_64_b_128\na_3_n_128_b_1\na_3_n_128_b_2\na_3_n_128_b_4\na_3_n_128_b_8\na_3_n_128_b_16\na_3_n_128_b_32\na_3_n_128_b_64\na_3_n_128_b_128\na_4_n_ 1_b_1\na_4_n_ 1_b_2\na_4_n_ 1_b_4\na_4_n_ 2_b_1\na_4_n_ 2_b_2\na_4_n_ 2_b_4\na_4_n_ 2_b_8\na_4_n_ 4_b_1\na_4_n_ 4_b_2\na_4_n_ 4_b_4\na_4_n_ 4_b_8\na_4_n_ 4_b_16\na_4_n_ 8_b_1\na_4_n_ 8_b_2\na_4_n_ 8_b_4\na_4_n_ 8_b_8\na_4_n_ 8_b_16\na_4_n_ 8_b_32\na_4_n_16_b_1\na_4_n_16_b_2\na_4_n_16_b_4\na_4_n_16_b_8\na_4_n_16_b_16\na_4_n_16_b_32\na_4_n_16_b_64\na_4_n_32_b_1\na_4_n_32_b_2\na_4_n_32_b_4\na_4_n_32_b_8\na_4_n_32_b_16\na_4_n_32_b_32\na_4_n_32_b_64\na_4_n_32_b_128\na_4_n_64_b_1\na_4_n_64_b_2\na_4_n_64_b_4\na_4_n_64_b_8\na_4_n_64_b_16\na_4_n_64_b_32\na_4_n_64_b_64\na_4_n_64_b_128\na_4_n_128_b_1\na_4_n_128_b_2\na_4_n_128_b_4\na_4_n_128_b_8\na_4_n_128_b_16\na_4_n_128_b_32\na_4_n_128_b_64\na_4_n_128_b_128\na_8_n_ 1_b_1\na_8_n_ 1_b_2\na_8_n_ 1_b_4\na_8_n_ 1_b_8\na_8_n_ 2_b_1\na_8_n_ 2_b_2\na_8_n_ 2_b_4\na_8_n_ 2_b_8\na_8_n_ 2_b_16\na_8_n_ 4_b_1\na_8_n_ 4_b_2\na_8_n_ 4_b_4\na_8_n_ 4_b_8\na_8_n_ 4_b_16\na_8_n_ 4_b_32\na_8_n_ 8_b_1\na_8_n_ 8_b_2\na_8_n_ 8_b_4\na_8_n_ 8_b_8\na_8_n_ 8_b_16\na_8_n_ 8_b_32\na_8_n_ 8_b_64\na_8_n_16_b_1\na_8_n_16_b_2\na_8_n_16_b_4\na_8_n_16_b_8\na_8_n_16_b_16\na_8_n_16_b_32\na_8_n_16_b_64\na_8_n_16_b_128\na_8_n_32_b_1\na_8_n_32_b_2\na_8_n_32_b_4\na_8_n_32_b_8\na_8_n_32_b_16\na_8_n_32_b_32\na_8_n_32_b_64\na_8_n_32_b_128\na_8_n_64_b_1\na_8_n_64_b_2\na_8_n_64_b_4\na_8_n_64_b_8\na_8_n_64_b_16\na_8_n_64_b_32\na_8_n_64_b_64\na_8_n_64_b_128\na_8_n_128_b_1\na_8_n_128_b_2\na_8_n_128_b_4\na_8_n_128_b_8\na_8_n_128_b_16\na_8_n_128_b_32\na_8_n_128_b_64\na_8_n_128_b_128\na_16_n_ 1_b_1\na_16_n_ 1_b_2\na_16_n_ 1_b_4\na_16_n_ 1_b_8\na_16_n_ 1_b_16\na_16_n_ 2_b_1\na_16_n_ 2_b_2\na_16_n_ 2_b_4\na_16_n_ 2_b_8\na_16_n_ 2_b_16\na_16_n_ 2_b_32\na_16_n_ 4_b_1\na_16_n_ 4_b_2\na_16_n_ 4_b_4\na_16_n_ 4_b_8\na_16_n_ 4_b_16\na_16_n_ 4_b_32\na_16_n_ 4_b_64\na_16_n_ 8_b_1\na_16_n_ 8_b_2\na_16_n_ 8_b_4\na_16_n_ 8_b_8\na_16_n_ 8_b_16\na_16_n_ 8_b_32\na_16_n_ 8_b_64\na_16_n_ 8_b_128\na_16_n_16_b_1\na_16_n_16_b_2\na_16_n_16_b_4\na_16_n_16_b_8\na_16_n_16_b_16\na_16_n_16_b_32\na_16_n_16_b_64\na_16_n_16_b_128\na_16_n_32_b_1\na_16_n_32_b_2\na_16_n_32_b_4\na_16_n_32_b_8\na_16_n_32_b_16\na_16_n_32_b_32\na_16_n_32_b_64\na_16_n_32_b_128\na_16_n_64_b_1\na_16_n_64_b_2\na_16_n_64_b_4\na_16_n_64_b_8\na_16_n_64_b_16\na_16_n_64_b_32\na_16_n_64_b_64\na_16_n_64_b_128\na_16_n_128_b_1\na_16_n_128_b_2\na_16_n_128_b_4\na_16_n_128_b_8\na_16_n_128_b_16\na_16_n_128_b_32\na_16_n_128_b_64\na_16_n_128_b_128\n"
     ]
    }
   ],
   "source": [
    "for e in cleaned_experiments:\n",
    "    exp_input = ' '.join([str(k + ' ' + str(v)) for k,v in e.items()])\n",
    "    exp_name = \"_\".join(['a', str(e['--actors']),\n",
    "     'n', '%2d'%(e['--num_env']),\n",
    "     'b', str(e['--batchsize_inference'])])\n",
    "    print(exp_name)"
   ]
  },
  {
   "cell_type": "code",
   "execution_count": null,
   "metadata": {},
   "outputs": [],
   "source": [
    "!python3 run_experiment.py $experiment_name --total_steps 100 --batchsize_training 4 "
   ]
  }
 ],
 "metadata": {
  "kernelspec": {
   "display_name": "Python 3",
   "language": "python",
   "name": "python3"
  },
  "language_info": {
   "codemirror_mode": {
    "name": "ipython",
    "version": 3
   },
   "file_extension": ".py",
   "mimetype": "text/x-python",
   "name": "python",
   "nbconvert_exporter": "python",
   "pygments_lexer": "ipython3",
   "version": "3.7.6-final"
  }
 },
 "nbformat": 4,
 "nbformat_minor": 4
}